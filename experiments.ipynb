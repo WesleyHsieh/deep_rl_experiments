{
 "cells": [
  {
   "cell_type": "code",
   "execution_count": 1,
   "metadata": {
    "collapsed": false
   },
   "outputs": [
    {
     "name": "stderr",
     "output_type": "stream",
     "text": [
      "/home/wesley/anaconda2/envs/rllab3/lib/python3.5/site-packages/theano/tensor/signal/downsample.py:6: UserWarning: downsample module has been moved to the theano.tensor.signal.pool module.\n",
      "  \"downsample module has been moved to the theano.tensor.signal.pool module.\")\n"
     ]
    }
   ],
   "source": [
    "%matplotlib inline\n",
    "from rllab.algos.trpo import TRPO\n",
    "from rllab.baselines.linear_feature_baseline import LinearFeatureBaseline\n",
    "from rllab.envs.gym_env import GymEnv\n",
    "from rllab.envs.normalized_env import normalize\n",
    "from rllab.misc.instrument import stub, run_experiment_lite\n",
    "from rllab.policies.gaussian_mlp_policy import GaussianMLPPolicy\n",
    "from rllab.policies.categorical_mlp_policy import CategoricalMLPPolicy\n",
    "# stub(globals())"
   ]
  },
  {
   "cell_type": "code",
   "execution_count": 2,
   "metadata": {
    "collapsed": false,
    "scrolled": false
   },
   "outputs": [],
   "source": [
    "# env = normalize(GymEnv(\"CartPole-v0\"))\n",
    "\n",
    "# hyperparams = {'hidden_sizes': (32, 32, 16, 8)}\n",
    "\n",
    "# policy = CategoricalMLPPolicy(\n",
    "#     env_spec=env.spec,\n",
    "#     # The neural network policy should have two hidden layers, each with 32 hidden units.\n",
    "#     **hyperparams\n",
    "# )\n",
    "\n",
    "# baseline = LinearFeatureBaseline(env_spec=env.spec)\n",
    "\n",
    "# algo = TRPO(\n",
    "#     env=env,\n",
    "#     policy=policy,\n",
    "#     baseline=baseline,\n",
    "#     batch_size=4000,\n",
    "#     max_path_length=100,\n",
    "#     n_itr=40,\n",
    "#     discount=0.99,\n",
    "#     step_size=0.01,\n",
    "# )\n",
    "# # algo.train()\n",
    "\n",
    "# run_experiment_lite(\n",
    "#     algo.train(),\n",
    "#     # Number of parallel workers for sampling\n",
    "#     n_parallel=1,\n",
    "#     # Only keep the snapshot parameters for the last iteration\n",
    "#     snapshot_mode=\"all\",\n",
    "#     # Specifies the seed for the experiment. If this is not provided, a random seed\n",
    "#     # will be used\n",
    "#     seed=1,\n",
    "#     plot=True,\n",
    "#     exp_name='sample_experiment'\n",
    "# )"
   ]
  },
  {
   "cell_type": "code",
   "execution_count": null,
   "metadata": {
    "collapsed": false
   },
   "outputs": [],
   "source": [
    "import lasagne.nonlinearities as NL\n",
    "from experiment_runner import ExperimentRunner"
   ]
  },
  {
   "cell_type": "code",
   "execution_count": null,
   "metadata": {
    "collapsed": false,
    "scrolled": false
   },
   "outputs": [
    {
     "name": "stdout",
     "output_type": "stream",
     "text": [
      "python /home/wesley/install/rllab/scripts/run_experiment_lite.py  --log_dir '/home/wesley/install/rllab/data/local/experiment/sample_experiment_0'  --n_parallel '1'  --plot 'True'  --exp_name 'sample_experiment_0'  --args_data 'gANjcmxsYWIubWlzYy5pbnN0cnVtZW50ClN0dWJNZXRob2RDYWxsCnEAKYFxAX1xAihYCAAAAF9fa3dhcmdzcQN9cQRYBgAAAF9fYXJnc3EFKGNybGxhYi5taXNjLmluc3RydW1lbnQKU3R1Yk9iamVjdApxBimBcQd9cQgoWAYAAABrd2FyZ3NxCX1xCihYCAAAAGRpc2NvdW50cQtHP++uFHrhR65YCAAAAGJhc2VsaW5lcQxoBimBcQ19cQ4oaAl9cQ9YCAAAAGVudl9zcGVjcRBjcmxsYWIubWlzYy5pbnN0cnVtZW50ClN0dWJBdHRyCnERKYFxEn1xEyhYBAAAAF9vYmpxFGgGKYFxFX1xFihoCX1xF1gDAAAAZW52cRhoBimBcRl9cRooaAl9cRtYCAAAAGVudl9uYW1lcRxYCwAAAENhcnRQb2xlLXYwcR1zWAsAAABwcm94eV9jbGFzc3EeY3JsbGFiLmVudnMuZ3ltX2VudgpHeW1FbnYKcR9YBAAAAGFyZ3NxICl1YnNoHmNybGxhYi5lbnZzLm5vcm1hbGl6ZWRfZW52Ck5vcm1hbGl6ZWRFbnYKcSFoICl1YlgKAAAAX2F0dHJfbmFtZXEiWAQAAABzcGVjcSN1YnNoHmNybGxhYi5iYXNlbGluZXMubGluZWFyX2ZlYXR1cmVfYmFzZWxpbmUKTGluZWFyRmVhdHVyZUJhc2VsaW5lCnEkaCApdWJoGGgVWAUAAABuX2l0cnElSyhYDwAAAG1heF9wYXRoX2xlbmd0aHEmaBEpgXEnfXEoKGgUaBVoIlgHAAAAaG9yaXpvbnEpdWJYBgAAAHBvbGljeXEqaAYpgXErfXEsKGgJfXEtKFgTAAAAaGlkZGVuX25vbmxpbmVhcml0eXEuY2xhc2FnbmUubm9ubGluZWFyaXRpZXMKdGFuaApxL1gMAAAAaGlkZGVuX3NpemVzcTBLIEsghnExaBBoESmBcTJ9cTMoaBRoFWgiaCN1YnVoHmNybGxhYi5wb2xpY2llcy5jYXRlZ29yaWNhbF9tbHBfcG9saWN5CkNhdGVnb3JpY2FsTUxQUG9saWN5CnE0aCApdWJYCQAAAHN0ZXBfc2l6ZXE1Rz+EeuFHrhR7WAQAAABwbG90cTaIWAoAAABiYXRjaF9zaXplcTdNoA91aB5jcmxsYWIuYWxnb3MudHJwbwpUUlBPCnE4aCApdWJYBQAAAHRyYWlucTkpfXE6dHE7dWIu'  --seed '1'  --use_cloudpickle 'False'  --snapshot_mode 'all'\n",
      "python /home/wesley/install/rllab/scripts/run_experiment_lite.py  --log_dir '/home/wesley/install/rllab/data/local/experiment/sample_experiment_1'  --n_parallel '1'  --plot 'True'  --exp_name 'sample_experiment_1'  --args_data 'gANjcmxsYWIubWlzYy5pbnN0cnVtZW50ClN0dWJNZXRob2RDYWxsCnEAKYFxAX1xAihYCAAAAF9fa3dhcmdzcQN9cQRYBgAAAF9fYXJnc3EFKGNybGxhYi5taXNjLmluc3RydW1lbnQKU3R1Yk9iamVjdApxBimBcQd9cQgoWAYAAABrd2FyZ3NxCX1xCihYCAAAAGRpc2NvdW50cQtHP++uFHrhR65YCAAAAGJhc2VsaW5lcQxoBimBcQ19cQ4oaAl9cQ9YCAAAAGVudl9zcGVjcRBjcmxsYWIubWlzYy5pbnN0cnVtZW50ClN0dWJBdHRyCnERKYFxEn1xEyhYBAAAAF9vYmpxFGgGKYFxFX1xFihoCX1xF1gDAAAAZW52cRhoBimBcRl9cRooaAl9cRtYCAAAAGVudl9uYW1lcRxYCwAAAENhcnRQb2xlLXYwcR1zWAsAAABwcm94eV9jbGFzc3EeY3JsbGFiLmVudnMuZ3ltX2VudgpHeW1FbnYKcR9YBAAAAGFyZ3NxICl1YnNoHmNybGxhYi5lbnZzLm5vcm1hbGl6ZWRfZW52Ck5vcm1hbGl6ZWRFbnYKcSFoICl1YlgKAAAAX2F0dHJfbmFtZXEiWAQAAABzcGVjcSN1YnNoHmNybGxhYi5iYXNlbGluZXMubGluZWFyX2ZlYXR1cmVfYmFzZWxpbmUKTGluZWFyRmVhdHVyZUJhc2VsaW5lCnEkaCApdWJoGGgVWAUAAABuX2l0cnElSyhYDwAAAG1heF9wYXRoX2xlbmd0aHEmaBEpgXEnfXEoKGgUaBVoIlgHAAAAaG9yaXpvbnEpdWJYBgAAAHBvbGljeXEqaAYpgXErfXEsKGgJfXEtKFgTAAAAaGlkZGVuX25vbmxpbmVhcml0eXEuY2xhc2FnbmUubm9ubGluZWFyaXRpZXMKdGFuaApxL1gMAAAAaGlkZGVuX3NpemVzcTBLIEsQhnExaBBoESmBcTJ9cTMoaBRoFWgiaCN1YnVoHmNybGxhYi5wb2xpY2llcy5jYXRlZ29yaWNhbF9tbHBfcG9saWN5CkNhdGVnb3JpY2FsTUxQUG9saWN5CnE0aCApdWJYCQAAAHN0ZXBfc2l6ZXE1Rz+EeuFHrhR7WAQAAABwbG90cTaIWAoAAABiYXRjaF9zaXplcTdNoA91aB5jcmxsYWIuYWxnb3MudHJwbwpUUlBPCnE4aCApdWJYBQAAAHRyYWlucTkpfXE6dHE7dWIu'  --seed '1'  --use_cloudpickle 'False'  --snapshot_mode 'all'\n",
      "python /home/wesley/install/rllab/scripts/run_experiment_lite.py  --log_dir '/home/wesley/install/rllab/data/local/experiment/sample_experiment_2'  --n_parallel '1'  --plot 'True'  --exp_name 'sample_experiment_2'  --args_data 'gANjcmxsYWIubWlzYy5pbnN0cnVtZW50ClN0dWJNZXRob2RDYWxsCnEAKYFxAX1xAihYCAAAAF9fa3dhcmdzcQN9cQRYBgAAAF9fYXJnc3EFKGNybGxhYi5taXNjLmluc3RydW1lbnQKU3R1Yk9iamVjdApxBimBcQd9cQgoWAYAAABrd2FyZ3NxCX1xCihYCAAAAGRpc2NvdW50cQtHP++uFHrhR65YCAAAAGJhc2VsaW5lcQxoBimBcQ19cQ4oaAl9cQ9YCAAAAGVudl9zcGVjcRBjcmxsYWIubWlzYy5pbnN0cnVtZW50ClN0dWJBdHRyCnERKYFxEn1xEyhYBAAAAF9vYmpxFGgGKYFxFX1xFihoCX1xF1gDAAAAZW52cRhoBimBcRl9cRooaAl9cRtYCAAAAGVudl9uYW1lcRxYCwAAAENhcnRQb2xlLXYwcR1zWAsAAABwcm94eV9jbGFzc3EeY3JsbGFiLmVudnMuZ3ltX2VudgpHeW1FbnYKcR9YBAAAAGFyZ3NxICl1YnNoHmNybGxhYi5lbnZzLm5vcm1hbGl6ZWRfZW52Ck5vcm1hbGl6ZWRFbnYKcSFoICl1YlgKAAAAX2F0dHJfbmFtZXEiWAQAAABzcGVjcSN1YnNoHmNybGxhYi5iYXNlbGluZXMubGluZWFyX2ZlYXR1cmVfYmFzZWxpbmUKTGluZWFyRmVhdHVyZUJhc2VsaW5lCnEkaCApdWJoGGgVWAUAAABuX2l0cnElSyhYDwAAAG1heF9wYXRoX2xlbmd0aHEmaBEpgXEnfXEoKGgUaBVoIlgHAAAAaG9yaXpvbnEpdWJYBgAAAHBvbGljeXEqaAYpgXErfXEsKGgJfXEtKFgTAAAAaGlkZGVuX25vbmxpbmVhcml0eXEuY2xhc2FnbmUubm9ubGluZWFyaXRpZXMKdGFuaApxL1gMAAAAaGlkZGVuX3NpemVzcTBLIEsgSyCHcTFoEGgRKYFxMn1xMyhoFGgVaCJoI3VidWgeY3JsbGFiLnBvbGljaWVzLmNhdGVnb3JpY2FsX21scF9wb2xpY3kKQ2F0ZWdvcmljYWxNTFBQb2xpY3kKcTRoICl1YlgJAAAAc3RlcF9zaXplcTVHP4R64UeuFHtYBAAAAHBsb3RxNohYCgAAAGJhdGNoX3NpemVxN02gD3VoHmNybGxhYi5hbGdvcy50cnBvClRSUE8KcThoICl1YlgFAAAAdHJhaW5xOSl9cTp0cTt1Yi4='  --seed '1'  --use_cloudpickle 'False'  --snapshot_mode 'all'\n"
     ]
    }
   ],
   "source": [
    "hyperparam_dict = {'hidden_sizes': [(32, 32), (32, 16), (32, 32, 32), (32, 32, 16), (32, 16, 16), (32, 32, 32, 32)], \n",
    "                   'hidden_nonlinearity': [NL.tanh, NL.rectify, NL.elu, NL.softmax]\n",
    "                  }\n",
    "env_name = \"CartPole-v0\"\n",
    "runner = ExperimentRunner(hyperparam_dict, env_name)\n",
    "exp_results = runner.run_experiments()"
   ]
  },
  {
   "cell_type": "code",
   "execution_count": null,
   "metadata": {
    "collapsed": false,
    "scrolled": true
   },
   "outputs": [],
   "source": [
    "print(exp_results)"
   ]
  },
  {
   "cell_type": "code",
   "execution_count": null,
   "metadata": {
    "collapsed": true
   },
   "outputs": [],
   "source": []
  }
 ],
 "metadata": {
  "kernelspec": {
   "display_name": "Python 3",
   "language": "python",
   "name": "python3"
  },
  "language_info": {
   "codemirror_mode": {
    "name": "ipython",
    "version": 3
   },
   "file_extension": ".py",
   "mimetype": "text/x-python",
   "name": "python",
   "nbconvert_exporter": "python",
   "pygments_lexer": "ipython3",
   "version": "3.5.2"
  },
  "widgets": {
   "state": {},
   "version": "1.1.2"
  }
 },
 "nbformat": 4,
 "nbformat_minor": 1
}
