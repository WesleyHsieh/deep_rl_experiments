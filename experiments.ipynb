{
 "cells": [
  {
   "cell_type": "code",
   "execution_count": 1,
   "metadata": {
    "collapsed": false
   },
   "outputs": [
    {
     "name": "stderr",
     "output_type": "stream",
     "text": [
      "/home/wesley/anaconda2/envs/rllab3/lib/python3.5/site-packages/theano/tensor/signal/downsample.py:6: UserWarning: downsample module has been moved to the theano.tensor.signal.pool module.\n",
      "  \"downsample module has been moved to the theano.tensor.signal.pool module.\")\n"
     ]
    }
   ],
   "source": [
    "%matplotlib inline\n",
    "from rllab.algos.trpo import TRPO\n",
    "from rllab.baselines.linear_feature_baseline import LinearFeatureBaseline\n",
    "from rllab.envs.gym_env import GymEnv\n",
    "from rllab.envs.normalized_env import normalize\n",
    "from rllab.misc.instrument import stub, run_experiment_lite\n",
    "from rllab.policies.gaussian_mlp_policy import GaussianMLPPolicy\n",
    "from rllab.policies.categorical_mlp_policy import CategoricalMLPPolicy\n",
    "# stub(globals())"
   ]
  },
  {
   "cell_type": "code",
   "execution_count": 2,
   "metadata": {
    "collapsed": false,
    "scrolled": false
   },
   "outputs": [],
   "source": [
    "# env = normalize(GymEnv(\"CartPole-v0\"))\n",
    "\n",
    "# hyperparams = {'hidden_sizes': (32, 32, 16, 8)}\n",
    "\n",
    "# policy = CategoricalMLPPolicy(\n",
    "#     env_spec=env.spec,\n",
    "#     # The neural network policy should have two hidden layers, each with 32 hidden units.\n",
    "#     **hyperparams\n",
    "# )\n",
    "\n",
    "# baseline = LinearFeatureBaseline(env_spec=env.spec)\n",
    "\n",
    "# algo = TRPO(\n",
    "#     env=env,\n",
    "#     policy=policy,\n",
    "#     baseline=baseline,\n",
    "#     batch_size=4000,\n",
    "#     max_path_length=100,\n",
    "#     n_itr=40,\n",
    "#     discount=0.99,\n",
    "#     step_size=0.01,\n",
    "# )\n",
    "# # algo.train()\n",
    "\n",
    "# run_experiment_lite(\n",
    "#     algo.train(),\n",
    "#     # Number of parallel workers for sampling\n",
    "#     n_parallel=1,\n",
    "#     # Only keep the snapshot parameters for the last iteration\n",
    "#     snapshot_mode=\"all\",\n",
    "#     # Specifies the seed for the experiment. If this is not provided, a random seed\n",
    "#     # will be used\n",
    "#     seed=1,\n",
    "#     plot=True,\n",
    "#     exp_name='sample_experiment'\n",
    "# )"
   ]
  },
  {
   "cell_type": "code",
   "execution_count": 4,
   "metadata": {
    "collapsed": false
   },
   "outputs": [],
   "source": [
    "import lasagne.nonlinearities as NL\n",
    "from experiment_runner import ExperimentRunner"
   ]
  },
  {
   "cell_type": "code",
   "execution_count": 5,
   "metadata": {
    "collapsed": false,
    "scrolled": true
   },
   "outputs": [
    {
     "name": "stdout",
     "output_type": "stream",
     "text": [
      "0\n",
      "python /home/wesley/install/rllab/scripts/run_experiment_lite.py  --snapshot_mode 'all'  --log_dir '/home/wesley/install/rllab/data/local/experiment/sample_experiment_0'  --seed '1'  --exp_name 'sample_experiment_0'  --plot 'True'  --args_data 'gANjcmxsYWIubWlzYy5pbnN0cnVtZW50ClN0dWJNZXRob2RDYWxsCnEAKYFxAX1xAihYCAAAAF9fa3dhcmdzcQN9cQRYBgAAAF9fYXJnc3EFKGNybGxhYi5taXNjLmluc3RydW1lbnQKU3R1Yk9iamVjdApxBimBcQd9cQgoWAQAAABhcmdzcQkpWAYAAABrd2FyZ3NxCn1xCyhYBAAAAHBsb3RxDIhYDwAAAG1heF9wYXRoX2xlbmd0aHENY3JsbGFiLm1pc2MuaW5zdHJ1bWVudApTdHViQXR0cgpxDimBcQ99cRAoWAoAAABfYXR0cl9uYW1lcRFYBwAAAGhvcml6b25xElgEAAAAX29ianETaAYpgXEUfXEVKGgJKWgKfXEWWAMAAABlbnZxF2gGKYFxGH1xGShoCSloCn1xGlgIAAAAZW52X25hbWVxG1gLAAAAQ2FydFBvbGUtdjBxHHNYCwAAAHByb3h5X2NsYXNzcR1jcmxsYWIuZW52cy5neW1fZW52Ckd5bUVudgpxHnVic2gdY3JsbGFiLmVudnMubm9ybWFsaXplZF9lbnYKTm9ybWFsaXplZEVudgpxH3VidWJYBgAAAHBvbGljeXEgaAYpgXEhfXEiKGgJKWgKfXEjKFgTAAAAaGlkZGVuX25vbmxpbmVhcml0eXEkY2xhc2FnbmUubm9ubGluZWFyaXRpZXMKdGFuaApxJVgMAAAAaGlkZGVuX3NpemVzcSZLIEsghnEnWAgAAABlbnZfc3BlY3EoaA4pgXEpfXEqKGgRWAQAAABzcGVjcStoE2gUdWJ1aB1jcmxsYWIucG9saWNpZXMuY2F0ZWdvcmljYWxfbWxwX3BvbGljeQpDYXRlZ29yaWNhbE1MUFBvbGljeQpxLHViaBdoFFgIAAAAYmFzZWxpbmVxLWgGKYFxLn1xLyhoCSloCn1xMGgoaA4pgXExfXEyKGgRaCtoE2gUdWJzaB1jcmxsYWIuYmFzZWxpbmVzLmxpbmVhcl9mZWF0dXJlX2Jhc2VsaW5lCkxpbmVhckZlYXR1cmVCYXNlbGluZQpxM3ViWAUAAABuX2l0cnE0SyhYCAAAAGRpc2NvdW50cTVHP++uFHrhR65YCQAAAHN0ZXBfc2l6ZXE2Rz+EeuFHrhR7WAoAAABiYXRjaF9zaXplcTdNoA91aB1jcmxsYWIuYWxnb3MudHJwbwpUUlBPCnE4dWJYBQAAAHRyYWlucTkpfXE6dHE7dWIu'  --use_cloudpickle 'False'  --n_parallel '1'\n",
      "1\n",
      "python /home/wesley/install/rllab/scripts/run_experiment_lite.py  --snapshot_mode 'all'  --log_dir '/home/wesley/install/rllab/data/local/experiment/sample_experiment_1'  --seed '1'  --exp_name 'sample_experiment_1'  --plot 'True'  --args_data 'gANjcmxsYWIubWlzYy5pbnN0cnVtZW50ClN0dWJNZXRob2RDYWxsCnEAKYFxAX1xAihYCAAAAF9fa3dhcmdzcQN9cQRYBgAAAF9fYXJnc3EFKGNybGxhYi5taXNjLmluc3RydW1lbnQKU3R1Yk9iamVjdApxBimBcQd9cQgoWAQAAABhcmdzcQkpWAYAAABrd2FyZ3NxCn1xCyhYBAAAAHBsb3RxDIhYDwAAAG1heF9wYXRoX2xlbmd0aHENY3JsbGFiLm1pc2MuaW5zdHJ1bWVudApTdHViQXR0cgpxDimBcQ99cRAoWAoAAABfYXR0cl9uYW1lcRFYBwAAAGhvcml6b25xElgEAAAAX29ianETaAYpgXEUfXEVKGgJKWgKfXEWWAMAAABlbnZxF2gGKYFxGH1xGShoCSloCn1xGlgIAAAAZW52X25hbWVxG1gLAAAAQ2FydFBvbGUtdjBxHHNYCwAAAHByb3h5X2NsYXNzcR1jcmxsYWIuZW52cy5neW1fZW52Ckd5bUVudgpxHnVic2gdY3JsbGFiLmVudnMubm9ybWFsaXplZF9lbnYKTm9ybWFsaXplZEVudgpxH3VidWJYBgAAAHBvbGljeXEgaAYpgXEhfXEiKGgJKWgKfXEjKFgTAAAAaGlkZGVuX25vbmxpbmVhcml0eXEkY2xhc2FnbmUubm9ubGluZWFyaXRpZXMKdGFuaApxJVgMAAAAaGlkZGVuX3NpemVzcSZLIEsgSyCHcSdYCAAAAGVudl9zcGVjcShoDimBcSl9cSooaBFYBAAAAHNwZWNxK2gTaBR1YnVoHWNybGxhYi5wb2xpY2llcy5jYXRlZ29yaWNhbF9tbHBfcG9saWN5CkNhdGVnb3JpY2FsTUxQUG9saWN5CnEsdWJoF2gUWAgAAABiYXNlbGluZXEtaAYpgXEufXEvKGgJKWgKfXEwaChoDimBcTF9cTIoaBFoK2gTaBR1YnNoHWNybGxhYi5iYXNlbGluZXMubGluZWFyX2ZlYXR1cmVfYmFzZWxpbmUKTGluZWFyRmVhdHVyZUJhc2VsaW5lCnEzdWJYBQAAAG5faXRycTRLKFgIAAAAZGlzY291bnRxNUc/764UeuFHrlgJAAAAc3RlcF9zaXplcTZHP4R64UeuFHtYCgAAAGJhdGNoX3NpemVxN02gD3VoHWNybGxhYi5hbGdvcy50cnBvClRSUE8KcTh1YlgFAAAAdHJhaW5xOSl9cTp0cTt1Yi4='  --use_cloudpickle 'False'  --n_parallel '1'\n"
     ]
    }
   ],
   "source": [
    "hyperparam_dict = {'hidden_sizes': [(32, 32), (32, 32, 32)], \n",
    "                   'hidden_nonlinearity': [NL.tanh, NL.rectify, NL.elu, NL.softmax]\n",
    "                   #'hidden_nonlinearity': [NL.tanh]\n",
    "                  }\n",
    "env_name = \"CartPole-v0\"\n",
    "runner = ExperimentRunner(hyperparam_dict, env_name)\n",
    "exp_results = runner.run_experiments()"
   ]
  },
  {
   "cell_type": "code",
   "execution_count": 6,
   "metadata": {
    "collapsed": false,
    "scrolled": true
   },
   "outputs": [
    {
     "name": "stdout",
     "output_type": "stream",
     "text": [
      "[({'hidden_nonlinearity': <function tanh at 0x7f1946e95620>, 'hidden_sizes': (32, 32)}, {'Iteration': '39', 'AverageDiscountedReturn': '78.1056360554', 'AverageReturn': '155.307692308'}), ({'hidden_nonlinearity': <function tanh at 0x7f1946e95620>, 'hidden_sizes': (32, 32, 32)}, {'Iteration': '39', 'AverageDiscountedReturn': '83.1958202353', 'AverageReturn': '182.636363636'})]\n",
      "({'hidden_nonlinearity': <function tanh at 0x7f1946e95620>, 'hidden_sizes': (32, 32)}, {'Iteration': '39', 'AverageDiscountedReturn': '78.1056360554', 'AverageReturn': '155.307692308'})\n"
     ]
    }
   ],
   "source": [
    "print(exp_results)"
   ]
  },
  {
   "cell_type": "code",
   "execution_count": null,
   "metadata": {
    "collapsed": true
   },
   "outputs": [],
   "source": []
  }
 ],
 "metadata": {
  "kernelspec": {
   "display_name": "Python 3",
   "language": "python",
   "name": "python3"
  },
  "language_info": {
   "codemirror_mode": {
    "name": "ipython",
    "version": 3
   },
   "file_extension": ".py",
   "mimetype": "text/x-python",
   "name": "python",
   "nbconvert_exporter": "python",
   "pygments_lexer": "ipython3",
   "version": "3.5.2"
  },
  "widgets": {
   "state": {},
   "version": "1.1.2"
  }
 },
 "nbformat": 4,
 "nbformat_minor": 1
}
