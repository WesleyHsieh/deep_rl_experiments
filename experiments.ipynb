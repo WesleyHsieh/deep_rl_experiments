{
 "cells": [
  {
   "cell_type": "code",
   "execution_count": 1,
   "metadata": {
    "collapsed": false
   },
   "outputs": [
    {
     "name": "stderr",
     "output_type": "stream",
     "text": [
      "/home/wesley/anaconda2/envs/rllab3/lib/python3.5/site-packages/theano/tensor/signal/downsample.py:6: UserWarning: downsample module has been moved to the theano.tensor.signal.pool module.\n",
      "  \"downsample module has been moved to the theano.tensor.signal.pool module.\")\n"
     ]
    }
   ],
   "source": [
    "%matplotlib inline\n",
    "from rllab.algos.trpo import TRPO\n",
    "from rllab.baselines.linear_feature_baseline import LinearFeatureBaseline\n",
    "from rllab.envs.gym_env import GymEnv\n",
    "from rllab.envs.normalized_env import normalize\n",
    "from rllab.misc.instrument import stub, run_experiment_lite\n",
    "from rllab.policies.gaussian_mlp_policy import GaussianMLPPolicy\n",
    "from rllab.policies.categorical_mlp_policy import CategoricalMLPPolicy"
   ]
  },
  {
   "cell_type": "code",
   "execution_count": 2,
   "metadata": {
    "collapsed": false,
    "scrolled": false
   },
   "outputs": [
    {
     "name": "stdout",
     "output_type": "stream",
     "text": [
      "2016-10-20 19:00:20.785399 PDT | Warning: skipping Gym environment monitoring since snapshot_dir not configured.\n"
     ]
    },
    {
     "name": "stderr",
     "output_type": "stream",
     "text": [
      "[2016-10-20 19:00:20,786] Making new env: CartPole-v0\n"
     ]
    },
    {
     "name": "stdout",
     "output_type": "stream",
     "text": [
      "GYM SPACE TYPE:  <class 'gym.spaces.box.Box'>\n",
      "GYM SPACE TYPE:  <class 'gym.spaces.discrete.Discrete'>\n",
      "2016-10-20 19:00:22.669335 PDT | Populating workers...\n",
      "2016-10-20 19:00:22.669942 PDT | Populated\n"
     ]
    },
    {
     "name": "stderr",
     "output_type": "stream",
     "text": [
      "0%                          100%\n",
      "[##############################] | ETA: 00:00:00"
     ]
    },
    {
     "name": "stdout",
     "output_type": "stream",
     "text": [
      "2016-10-20 19:00:23.149263 PDT | itr #0 | fitting baseline...\n"
     ]
    },
    {
     "name": "stderr",
     "output_type": "stream",
     "text": [
      "\n",
      "Total time elapsed: 00:00:00\n"
     ]
    },
    {
     "name": "stdout",
     "output_type": "stream",
     "text": [
      "2016-10-20 19:00:23.335973 PDT | itr #0 | fitted\n",
      "\u001b[35m=: Compiling function f_loss\u001b[0m\n",
      "\u001b[35mdone in 0.169 seconds\u001b[0m\n",
      "\u001b[35m=: Compiling function constraint\u001b[0m\n",
      "\u001b[35mdone in 0.113 seconds\u001b[0m\n",
      "2016-10-20 19:00:23.646263 PDT | itr #0 | computing loss before\n",
      "2016-10-20 19:00:23.655626 PDT | itr #0 | performing update\n",
      "2016-10-20 19:00:23.656152 PDT | itr #0 | computing descent direction\n",
      "\u001b[35m=: Compiling function f_grad\u001b[0m\n",
      "\u001b[35mdone in 0.296 seconds\u001b[0m\n",
      "\u001b[35m=: Compiling function f_Hx_plain\u001b[0m\n",
      "\u001b[35mdone in 0.707 seconds\u001b[0m\n",
      "2016-10-20 19:00:24.935993 PDT | itr #0 | descent direction computed\n",
      "\u001b[35m=: Compiling function f_loss_constraint\u001b[0m\n",
      "\u001b[35mdone in 0.140 seconds\u001b[0m\n",
      "2016-10-20 19:00:25.110714 PDT | itr #0 | backtrack iters: 4\n",
      "2016-10-20 19:00:25.111269 PDT | itr #0 | computing loss after\n",
      "2016-10-20 19:00:25.111780 PDT | itr #0 | optimization finished\n",
      "2016-10-20 19:00:25.131404 PDT | itr #0 | saving snapshot...\n",
      "2016-10-20 19:00:25.132289 PDT | itr #0 | saved\n",
      "2016-10-20 19:00:25.133775 PDT | -----------------------  -------------\n",
      "2016-10-20 19:00:25.134343 PDT | Iteration                  0\n",
      "2016-10-20 19:00:25.135660 PDT | AverageDiscountedReturn   24.1885\n",
      "2016-10-20 19:00:25.137124 PDT | AverageReturn             28.8489\n",
      "2016-10-20 19:00:25.138285 PDT | ExplainedVariance          6.65097e-11\n",
      "2016-10-20 19:00:25.139976 PDT | NumTrajs                 139\n",
      "2016-10-20 19:00:25.141099 PDT | Entropy                    0.687448\n",
      "2016-10-20 19:00:25.141931 PDT | Perplexity                 1.98863\n",
      "2016-10-20 19:00:25.142554 PDT | StdReturn                 16.7198\n",
      "2016-10-20 19:00:25.143611 PDT | MaxReturn                 85\n",
      "2016-10-20 19:00:25.144655 PDT | MinReturn                 10\n",
      "2016-10-20 19:00:25.145674 PDT | LossBefore                -1.7361e-15\n",
      "2016-10-20 19:00:25.146688 PDT | LossAfter                 -0.00167702\n",
      "2016-10-20 19:00:25.148900 PDT | MeanKLBefore               7.16053e-20\n",
      "2016-10-20 19:00:25.150029 PDT | MeanKL                     0.00458732\n",
      "2016-10-20 19:00:25.151057 PDT | dLoss                      0.00167702\n",
      "2016-10-20 19:00:25.152044 PDT | -----------------------  -------------\n"
     ]
    },
    {
     "name": "stderr",
     "output_type": "stream",
     "text": [
      "0%                          100%\n",
      "[##############################] | ETA: 00:00:00\n",
      "Total time elapsed: 00:00:00\n"
     ]
    },
    {
     "name": "stdout",
     "output_type": "stream",
     "text": [
      "2016-10-20 19:00:25.617499 PDT | itr #1 | fitting baseline...\n",
      "2016-10-20 19:00:25.621758 PDT | itr #1 | fitted\n",
      "2016-10-20 19:00:25.639383 PDT | itr #1 | computing loss before\n",
      "2016-10-20 19:00:25.646300 PDT | itr #1 | performing update\n",
      "2016-10-20 19:00:25.646933 PDT | itr #1 | computing descent direction\n",
      "2016-10-20 19:00:25.783264 PDT | itr #1 | descent direction computed\n",
      "2016-10-20 19:00:25.804620 PDT | itr #1 | backtrack iters: 2\n",
      "2016-10-20 19:00:25.805131 PDT | itr #1 | computing loss after\n",
      "2016-10-20 19:00:25.805489 PDT | itr #1 | optimization finished\n",
      "2016-10-20 19:00:25.827168 PDT | itr #1 | saving snapshot...\n",
      "2016-10-20 19:00:25.828219 PDT | itr #1 | saved\n",
      "2016-10-20 19:00:25.829592 PDT | -----------------------  ------------\n",
      "2016-10-20 19:00:25.830121 PDT | Iteration                  1\n",
      "2016-10-20 19:00:25.830622 PDT | AverageDiscountedReturn   22.3203\n",
      "2016-10-20 19:00:25.831257 PDT | AverageReturn             26.2208\n",
      "2016-10-20 19:00:25.831662 PDT | ExplainedVariance          0.240846\n",
      "2016-10-20 19:00:25.832103 PDT | NumTrajs                 154\n",
      "2016-10-20 19:00:25.832527 PDT | Entropy                    0.688206\n",
      "2016-10-20 19:00:25.832900 PDT | Perplexity                 1.99014\n",
      "2016-10-20 19:00:25.833285 PDT | StdReturn                 15.3569\n",
      "2016-10-20 19:00:25.833689 PDT | MaxReturn                 89\n",
      "2016-10-20 19:00:25.834108 PDT | MinReturn                  9\n",
      "2016-10-20 19:00:25.834535 PDT | LossBefore                 2.5556e-16\n",
      "2016-10-20 19:00:25.834897 PDT | LossAfter                 -0.0161715\n",
      "2016-10-20 19:00:25.835248 PDT | MeanKLBefore               0\n",
      "2016-10-20 19:00:25.835606 PDT | MeanKL                     0.00687853\n",
      "2016-10-20 19:00:25.835965 PDT | dLoss                      0.0161715\n",
      "2016-10-20 19:00:25.836316 PDT | -----------------------  ------------\n"
     ]
    },
    {
     "name": "stderr",
     "output_type": "stream",
     "text": [
      "0%                          100%\n",
      "[##############################] | ETA: 00:00:00"
     ]
    },
    {
     "name": "stdout",
     "output_type": "stream",
     "text": [
      "2016-10-20 19:00:26.246994 PDT | itr #2 | fitting baseline...\n"
     ]
    },
    {
     "name": "stderr",
     "output_type": "stream",
     "text": [
      "\n",
      "Total time elapsed: 00:00:00\n"
     ]
    },
    {
     "name": "stdout",
     "output_type": "stream",
     "text": [
      "2016-10-20 19:00:26.251136 PDT | itr #2 | fitted\n",
      "2016-10-20 19:00:26.266432 PDT | itr #2 | computing loss before\n",
      "2016-10-20 19:00:26.274158 PDT | itr #2 | performing update\n",
      "2016-10-20 19:00:26.277506 PDT | itr #2 | computing descent direction\n",
      "2016-10-20 19:00:26.423855 PDT | itr #2 | descent direction computed\n",
      "2016-10-20 19:00:26.431686 PDT | itr #2 | backtrack iters: 0\n",
      "2016-10-20 19:00:26.432269 PDT | itr #2 | computing loss after\n",
      "2016-10-20 19:00:26.432748 PDT | itr #2 | optimization finished\n",
      "2016-10-20 19:00:26.455074 PDT | itr #2 | saving snapshot...\n",
      "2016-10-20 19:00:26.455664 PDT | itr #2 | saved\n",
      "2016-10-20 19:00:26.457000 PDT | -----------------------  -------------\n",
      "2016-10-20 19:00:26.457736 PDT | Iteration                  2\n",
      "2016-10-20 19:00:26.458269 PDT | AverageDiscountedReturn   26.2964\n",
      "2016-10-20 19:00:26.459299 PDT | AverageReturn             32.3548\n",
      "2016-10-20 19:00:26.459687 PDT | ExplainedVariance          0.226134\n",
      "2016-10-20 19:00:26.460584 PDT | NumTrajs                 124\n",
      "2016-10-20 19:00:26.460930 PDT | Entropy                    0.67957\n",
      "2016-10-20 19:00:26.461921 PDT | Perplexity                 1.97303\n",
      "2016-10-20 19:00:26.462476 PDT | StdReturn                 20.7295\n",
      "2016-10-20 19:00:26.463457 PDT | MaxReturn                100\n",
      "2016-10-20 19:00:26.464561 PDT | MinReturn                  9\n",
      "2016-10-20 19:00:26.465035 PDT | LossBefore                 3.88523e-17\n",
      "2016-10-20 19:00:26.466876 PDT | LossAfter                 -0.0279452\n",
      "2016-10-20 19:00:26.467327 PDT | MeanKLBefore              -3.30818e-20\n",
      "2016-10-20 19:00:26.468362 PDT | MeanKL                     0.00828093\n",
      "2016-10-20 19:00:26.468761 PDT | dLoss                      0.0279452\n",
      "2016-10-20 19:00:26.470004 PDT | -----------------------  -------------\n"
     ]
    },
    {
     "name": "stderr",
     "output_type": "stream",
     "text": [
      "0%                          100%\n",
      "[##############################] | ETA: 00:00:00\n",
      "Total time elapsed: 00:00:00\n"
     ]
    },
    {
     "name": "stdout",
     "output_type": "stream",
     "text": [
      "2016-10-20 19:00:26.935839 PDT | itr #3 | fitting baseline...\n",
      "2016-10-20 19:00:26.938916 PDT | itr #3 | fitted\n",
      "2016-10-20 19:00:26.963490 PDT | itr #3 | computing loss before\n",
      "2016-10-20 19:00:26.974995 PDT | itr #3 | performing update\n",
      "2016-10-20 19:00:26.975639 PDT | itr #3 | computing descent direction\n",
      "2016-10-20 19:00:27.124719 PDT | itr #3 | descent direction computed\n",
      "2016-10-20 19:00:27.140003 PDT | itr #3 | backtrack iters: 1\n",
      "2016-10-20 19:00:27.140607 PDT | itr #3 | computing loss after\n",
      "2016-10-20 19:00:27.141100 PDT | itr #3 | optimization finished\n",
      "2016-10-20 19:00:27.156505 PDT | itr #3 | saving snapshot...\n",
      "2016-10-20 19:00:27.157283 PDT | itr #3 | saved\n",
      "2016-10-20 19:00:27.158988 PDT | -----------------------  -------------\n",
      "2016-10-20 19:00:27.159480 PDT | Iteration                  3\n",
      "2016-10-20 19:00:27.159812 PDT | AverageDiscountedReturn   40.537\n",
      "2016-10-20 19:00:27.160236 PDT | AverageReturn             55.6389\n",
      "2016-10-20 19:00:27.160651 PDT | ExplainedVariance          0.284058\n",
      "2016-10-20 19:00:27.161020 PDT | NumTrajs                  72\n",
      "2016-10-20 19:00:27.161427 PDT | Entropy                    0.656386\n",
      "2016-10-20 19:00:27.161851 PDT | Perplexity                 1.92781\n",
      "2016-10-20 19:00:27.162179 PDT | StdReturn                 28.3952\n",
      "2016-10-20 19:00:27.162497 PDT | MaxReturn                100\n",
      "2016-10-20 19:00:27.162811 PDT | MinReturn                 10\n",
      "2016-10-20 19:00:27.163128 PDT | LossBefore                 3.05408e-17\n",
      "2016-10-20 19:00:27.163446 PDT | LossAfter                 -0.0217765\n",
      "2016-10-20 19:00:27.163765 PDT | MeanKLBefore               0\n",
      "2016-10-20 19:00:27.164092 PDT | MeanKL                     0.00922318\n",
      "2016-10-20 19:00:27.164405 PDT | dLoss                      0.0217765\n",
      "2016-10-20 19:00:27.164722 PDT | -----------------------  -------------\n"
     ]
    },
    {
     "name": "stderr",
     "output_type": "stream",
     "text": [
      "0%                          100%\n",
      "[##############################] | ETA: 00:00:00"
     ]
    },
    {
     "name": "stdout",
     "output_type": "stream",
     "text": [
      "2016-10-20 19:00:27.562707 PDT | itr #4 | fitting baseline...\n",
      "2016-10-20 19:00:27.565727 PDT | itr #4 | fitted\n"
     ]
    },
    {
     "name": "stderr",
     "output_type": "stream",
     "text": [
      "\n",
      "Total time elapsed: 00:00:00\n"
     ]
    },
    {
     "name": "stdout",
     "output_type": "stream",
     "text": [
      "2016-10-20 19:00:27.587312 PDT | itr #4 | computing loss before\n",
      "2016-10-20 19:00:27.598197 PDT | itr #4 | performing update\n",
      "2016-10-20 19:00:27.598987 PDT | itr #4 | computing descent direction\n",
      "2016-10-20 19:00:27.745780 PDT | itr #4 | descent direction computed\n",
      "2016-10-20 19:00:27.767750 PDT | itr #4 | backtrack iters: 2\n",
      "2016-10-20 19:00:27.768614 PDT | itr #4 | computing loss after\n",
      "2016-10-20 19:00:27.769293 PDT | itr #4 | optimization finished\n",
      "2016-10-20 19:00:27.784468 PDT | itr #4 | saving snapshot...\n",
      "2016-10-20 19:00:27.785190 PDT | itr #4 | saved\n",
      "2016-10-20 19:00:27.786328 PDT | -----------------------  -------------\n",
      "2016-10-20 19:00:27.786817 PDT | Iteration                  4\n",
      "2016-10-20 19:00:27.788000 PDT | AverageDiscountedReturn   51.2848\n",
      "2016-10-20 19:00:27.788543 PDT | AverageReturn             76.3962\n",
      "2016-10-20 19:00:27.789039 PDT | ExplainedVariance          0.500723\n",
      "2016-10-20 19:00:27.789620 PDT | NumTrajs                  53\n",
      "2016-10-20 19:00:27.790119 PDT | Entropy                    0.63638\n",
      "2016-10-20 19:00:27.790608 PDT | Perplexity                 1.88963\n",
      "2016-10-20 19:00:27.791096 PDT | StdReturn                 29.9643\n",
      "2016-10-20 19:00:27.791492 PDT | MaxReturn                100\n",
      "2016-10-20 19:00:27.791920 PDT | MinReturn                 13\n",
      "2016-10-20 19:00:27.792345 PDT | LossBefore                -1.46339e-16\n",
      "2016-10-20 19:00:27.792798 PDT | LossAfter                 -0.014579\n",
      "2016-10-20 19:00:27.793262 PDT | MeanKLBefore              -1.9664e-20\n",
      "2016-10-20 19:00:27.793660 PDT | MeanKL                     0.00594584\n",
      "2016-10-20 19:00:27.794094 PDT | dLoss                      0.014579\n",
      "2016-10-20 19:00:27.794521 PDT | -----------------------  -------------\n"
     ]
    },
    {
     "name": "stderr",
     "output_type": "stream",
     "text": [
      "0%                          100%\n",
      "[##############################] | ETA: 00:00:00"
     ]
    },
    {
     "name": "stdout",
     "output_type": "stream",
     "text": [
      "2016-10-20 19:00:28.195088 PDT | itr #5 | fitting baseline...\n",
      "2016-10-20 19:00:28.197455 PDT | itr #5 | fitted\n",
      "2016-10-20 19:00:28.212455 PDT | itr #5 | computing loss before\n"
     ]
    },
    {
     "name": "stderr",
     "output_type": "stream",
     "text": [
      "\n",
      "Total time elapsed: 00:00:00\n"
     ]
    },
    {
     "name": "stdout",
     "output_type": "stream",
     "text": [
      "2016-10-20 19:00:28.219984 PDT | itr #5 | performing update\n",
      "2016-10-20 19:00:28.221273 PDT | itr #5 | computing descent direction\n",
      "2016-10-20 19:00:28.357570 PDT | itr #5 | descent direction computed\n",
      "2016-10-20 19:00:28.372963 PDT | itr #5 | backtrack iters: 1\n",
      "2016-10-20 19:00:28.373614 PDT | itr #5 | computing loss after\n",
      "2016-10-20 19:00:28.374282 PDT | itr #5 | optimization finished\n",
      "2016-10-20 19:00:28.389000 PDT | itr #5 | saving snapshot...\n",
      "2016-10-20 19:00:28.390129 PDT | itr #5 | saved\n",
      "2016-10-20 19:00:28.392194 PDT | -----------------------  -------------\n",
      "2016-10-20 19:00:28.392715 PDT | Iteration                  5\n",
      "2016-10-20 19:00:28.393259 PDT | AverageDiscountedReturn   56.9939\n",
      "2016-10-20 19:00:28.393778 PDT | AverageReturn             87.1087\n",
      "2016-10-20 19:00:28.394231 PDT | ExplainedVariance          0.719194\n",
      "2016-10-20 19:00:28.394667 PDT | NumTrajs                  46\n",
      "2016-10-20 19:00:28.395098 PDT | Entropy                    0.619462\n",
      "2016-10-20 19:00:28.395524 PDT | Perplexity                 1.85793\n",
      "2016-10-20 19:00:28.395970 PDT | StdReturn                 23.282\n",
      "2016-10-20 19:00:28.396390 PDT | MaxReturn                100\n",
      "2016-10-20 19:00:28.396845 PDT | MinReturn                 16\n",
      "2016-10-20 19:00:28.397297 PDT | LossBefore                -2.59892e-17\n",
      "2016-10-20 19:00:28.397715 PDT | LossAfter                 -0.0168614\n",
      "2016-10-20 19:00:28.398190 PDT | MeanKLBefore               0\n",
      "2016-10-20 19:00:28.398618 PDT | MeanKL                     0.00886515\n",
      "2016-10-20 19:00:28.399033 PDT | dLoss                      0.0168614\n",
      "2016-10-20 19:00:28.399460 PDT | -----------------------  -------------\n"
     ]
    },
    {
     "name": "stderr",
     "output_type": "stream",
     "text": [
      "0%                          100%\n",
      "[##############################] | ETA: 00:00:00"
     ]
    },
    {
     "name": "stdout",
     "output_type": "stream",
     "text": [
      "2016-10-20 19:00:28.802264 PDT | itr #6 | fitting baseline...\n",
      "2016-10-20 19:00:28.804606 PDT | itr #6 | fitted\n"
     ]
    },
    {
     "name": "stderr",
     "output_type": "stream",
     "text": [
      "\n",
      "Total time elapsed: 00:00:00\n"
     ]
    },
    {
     "name": "stdout",
     "output_type": "stream",
     "text": [
      "2016-10-20 19:00:28.825883 PDT | itr #6 | computing loss before\n",
      "2016-10-20 19:00:28.836807 PDT | itr #6 | performing update\n",
      "2016-10-20 19:00:28.837609 PDT | itr #6 | computing descent direction\n",
      "2016-10-20 19:00:28.981899 PDT | itr #6 | descent direction computed\n",
      "2016-10-20 19:00:28.989981 PDT | itr #6 | backtrack iters: 0\n",
      "2016-10-20 19:00:28.990589 PDT | itr #6 | computing loss after\n",
      "2016-10-20 19:00:28.991145 PDT | itr #6 | optimization finished\n",
      "2016-10-20 19:00:29.005861 PDT | itr #6 | saving snapshot...\n",
      "2016-10-20 19:00:29.006423 PDT | itr #6 | saved\n",
      "2016-10-20 19:00:29.007781 PDT | -----------------------  -------------\n",
      "2016-10-20 19:00:29.008534 PDT | Iteration                  6\n",
      "2016-10-20 19:00:29.009181 PDT | AverageDiscountedReturn   62.6587\n",
      "2016-10-20 19:00:29.009788 PDT | AverageReturn             98.122\n",
      "2016-10-20 19:00:29.010269 PDT | ExplainedVariance          0.948764\n",
      "2016-10-20 19:00:29.010696 PDT | NumTrajs                  41\n",
      "2016-10-20 19:00:29.011113 PDT | Entropy                    0.598302\n",
      "2016-10-20 19:00:29.011504 PDT | Perplexity                 1.81903\n",
      "2016-10-20 19:00:29.011900 PDT | StdReturn                  4.55425\n",
      "2016-10-20 19:00:29.012294 PDT | MaxReturn                100\n",
      "2016-10-20 19:00:29.012690 PDT | MinReturn                 81\n",
      "2016-10-20 19:00:29.013083 PDT | LossBefore                 5.10129e-17\n",
      "2016-10-20 19:00:29.013471 PDT | LossAfter                 -0.0102742\n",
      "2016-10-20 19:00:29.013876 PDT | MeanKLBefore              -2.31142e-21\n",
      "2016-10-20 19:00:29.014259 PDT | MeanKL                     0.00684028\n",
      "2016-10-20 19:00:29.014641 PDT | dLoss                      0.0102742\n",
      "2016-10-20 19:00:29.015022 PDT | -----------------------  -------------\n"
     ]
    },
    {
     "name": "stderr",
     "output_type": "stream",
     "text": [
      "0%                          100%\n",
      "[##############################] | ETA: 00:00:00"
     ]
    },
    {
     "name": "stdout",
     "output_type": "stream",
     "text": [
      "2016-10-20 19:00:29.431887 PDT | itr #7 | fitting baseline...\n",
      "2016-10-20 19:00:29.434304 PDT | itr #7 | fitted\n"
     ]
    },
    {
     "name": "stderr",
     "output_type": "stream",
     "text": [
      "\n",
      "Total time elapsed: 00:00:00\n"
     ]
    },
    {
     "name": "stdout",
     "output_type": "stream",
     "text": [
      "2016-10-20 19:00:29.449106 PDT | itr #7 | computing loss before\n",
      "2016-10-20 19:00:29.456115 PDT | itr #7 | performing update\n",
      "2016-10-20 19:00:29.457058 PDT | itr #7 | computing descent direction\n",
      "2016-10-20 19:00:29.590144 PDT | itr #7 | descent direction computed\n",
      "2016-10-20 19:00:29.613583 PDT | itr #7 | backtrack iters: 2\n",
      "2016-10-20 19:00:29.614112 PDT | itr #7 | computing loss after\n",
      "2016-10-20 19:00:29.614472 PDT | itr #7 | optimization finished\n",
      "2016-10-20 19:00:29.628889 PDT | itr #7 | saving snapshot...\n",
      "2016-10-20 19:00:29.629421 PDT | itr #7 | saved\n",
      "2016-10-20 19:00:29.630319 PDT | -----------------------  -------------\n",
      "2016-10-20 19:00:29.630677 PDT | Iteration                  7\n",
      "2016-10-20 19:00:29.631020 PDT | AverageDiscountedReturn   60.5222\n",
      "2016-10-20 19:00:29.631347 PDT | AverageReturn             94.4651\n",
      "2016-10-20 19:00:29.631664 PDT | ExplainedVariance          0.891751\n",
      "2016-10-20 19:00:29.631998 PDT | NumTrajs                  43\n",
      "2016-10-20 19:00:29.632327 PDT | Entropy                    0.60449\n",
      "2016-10-20 19:00:29.632663 PDT | Perplexity                 1.83032\n",
      "2016-10-20 19:00:29.632985 PDT | StdReturn                 17.8187\n",
      "2016-10-20 19:00:29.633306 PDT | MaxReturn                100\n",
      "2016-10-20 19:00:29.633627 PDT | MinReturn                 11\n",
      "2016-10-20 19:00:29.633961 PDT | LossBefore                 5.44179e-17\n",
      "2016-10-20 19:00:29.634277 PDT | LossAfter                 -0.00343746\n",
      "2016-10-20 19:00:29.634596 PDT | MeanKLBefore               0\n",
      "2016-10-20 19:00:29.634975 PDT | MeanKL                     0.00876147\n",
      "2016-10-20 19:00:29.635298 PDT | dLoss                      0.00343746\n",
      "2016-10-20 19:00:29.635625 PDT | -----------------------  -------------\n"
     ]
    },
    {
     "name": "stderr",
     "output_type": "stream",
     "text": [
      "0%                          100%\n",
      "[##############################] | ETA: 00:00:00\n",
      "Total time elapsed: 00:00:00\n"
     ]
    },
    {
     "name": "stdout",
     "output_type": "stream",
     "text": [
      "2016-10-20 19:00:30.045608 PDT | itr #8 | fitting baseline...\n",
      "2016-10-20 19:00:30.047819 PDT | itr #8 | fitted\n",
      "2016-10-20 19:00:30.062839 PDT | itr #8 | computing loss before\n",
      "2016-10-20 19:00:30.069739 PDT | itr #8 | performing update\n",
      "2016-10-20 19:00:30.070192 PDT | itr #8 | computing descent direction\n",
      "2016-10-20 19:00:30.205100 PDT | itr #8 | descent direction computed\n",
      "2016-10-20 19:00:30.228894 PDT | itr #8 | backtrack iters: 2\n",
      "2016-10-20 19:00:30.229403 PDT | itr #8 | computing loss after\n",
      "2016-10-20 19:00:30.229791 PDT | itr #8 | optimization finished\n",
      "2016-10-20 19:00:30.244802 PDT | itr #8 | saving snapshot...\n",
      "2016-10-20 19:00:30.245862 PDT | itr #8 | saved\n",
      "2016-10-20 19:00:30.247028 PDT | -----------------------  -------------\n",
      "2016-10-20 19:00:30.247500 PDT | Iteration                  8\n",
      "2016-10-20 19:00:30.247992 PDT | AverageDiscountedReturn   61.7778\n",
      "2016-10-20 19:00:30.248486 PDT | AverageReturn             96.2857\n",
      "2016-10-20 19:00:30.248954 PDT | ExplainedVariance          0.937107\n",
      "2016-10-20 19:00:30.249433 PDT | NumTrajs                  42\n",
      "2016-10-20 19:00:30.249926 PDT | Entropy                    0.615805\n",
      "2016-10-20 19:00:30.250374 PDT | Perplexity                 1.85115\n",
      "2016-10-20 19:00:30.250820 PDT | StdReturn                 10.06\n",
      "2016-10-20 19:00:30.251260 PDT | MaxReturn                100\n",
      "2016-10-20 19:00:30.251705 PDT | MinReturn                 40\n",
      "2016-10-20 19:00:30.252150 PDT | LossBefore                 2.28826e-17\n",
      "2016-10-20 19:00:30.252591 PDT | LossAfter                 -0.00770301\n",
      "2016-10-20 19:00:30.253037 PDT | MeanKLBefore               3.92933e-21\n",
      "2016-10-20 19:00:30.253484 PDT | MeanKL                     0.00994002\n",
      "2016-10-20 19:00:30.254034 PDT | dLoss                      0.00770301\n",
      "2016-10-20 19:00:30.254470 PDT | -----------------------  -------------\n"
     ]
    },
    {
     "name": "stderr",
     "output_type": "stream",
     "text": [
      "0%                          100%\n",
      "[##############################] | ETA: 00:00:00\n",
      "Total time elapsed: 00:00:00\n"
     ]
    },
    {
     "name": "stdout",
     "output_type": "stream",
     "text": [
      "2016-10-20 19:00:30.683399 PDT | itr #9 | fitting baseline...\n",
      "2016-10-20 19:00:30.685688 PDT | itr #9 | fitted\n",
      "2016-10-20 19:00:30.708537 PDT | itr #9 | computing loss before\n",
      "2016-10-20 19:00:30.719640 PDT | itr #9 | performing update\n",
      "2016-10-20 19:00:30.720372 PDT | itr #9 | computing descent direction\n",
      "2016-10-20 19:00:30.858311 PDT | itr #9 | descent direction computed\n",
      "2016-10-20 19:00:30.897394 PDT | itr #9 | backtrack iters: 4\n",
      "2016-10-20 19:00:30.897915 PDT | itr #9 | computing loss after\n",
      "2016-10-20 19:00:30.898284 PDT | itr #9 | optimization finished\n",
      "2016-10-20 19:00:30.914377 PDT | itr #9 | saving snapshot...\n",
      "2016-10-20 19:00:30.914967 PDT | itr #9 | saved\n",
      "2016-10-20 19:00:30.915890 PDT | -----------------------  -------------\n",
      "2016-10-20 19:00:30.916512 PDT | Iteration                  9\n",
      "2016-10-20 19:00:30.916949 PDT | AverageDiscountedReturn   62.9882\n",
      "2016-10-20 19:00:30.917389 PDT | AverageReturn             99.0244\n",
      "2016-10-20 19:00:30.918554 PDT | ExplainedVariance          0.981169\n",
      "2016-10-20 19:00:30.921503 PDT | NumTrajs                  41\n",
      "2016-10-20 19:00:30.922146 PDT | Entropy                    0.59335\n",
      "2016-10-20 19:00:30.922686 PDT | Perplexity                 1.81004\n",
      "2016-10-20 19:00:30.924647 PDT | StdReturn                  4.84133\n",
      "2016-10-20 19:00:30.925302 PDT | MaxReturn                100\n",
      "2016-10-20 19:00:30.925901 PDT | MinReturn                 70\n",
      "2016-10-20 19:00:30.926442 PDT | LossBefore                 8.74779e-17\n",
      "2016-10-20 19:00:30.926978 PDT | LossAfter                 -0.00371711\n",
      "2016-10-20 19:00:30.927479 PDT | MeanKLBefore              -7.26952e-20\n",
      "2016-10-20 19:00:30.928006 PDT | MeanKL                     0.00788547\n",
      "2016-10-20 19:00:30.928498 PDT | dLoss                      0.00371711\n",
      "2016-10-20 19:00:30.928986 PDT | -----------------------  -------------\n"
     ]
    },
    {
     "name": "stderr",
     "output_type": "stream",
     "text": [
      "0%                          100%\n",
      "[##############################] | ETA: 00:00:00"
     ]
    },
    {
     "name": "stdout",
     "output_type": "stream",
     "text": [
      "2016-10-20 19:00:31.318122 PDT | itr #10 | fitting baseline...\n",
      "2016-10-20 19:00:31.320414 PDT | itr #10 | fitted\n"
     ]
    },
    {
     "name": "stderr",
     "output_type": "stream",
     "text": [
      "\n",
      "Total time elapsed: 00:00:00\n"
     ]
    },
    {
     "name": "stdout",
     "output_type": "stream",
     "text": [
      "2016-10-20 19:00:31.336425 PDT | itr #10 | computing loss before\n",
      "2016-10-20 19:00:31.347681 PDT | itr #10 | performing update\n",
      "2016-10-20 19:00:31.348324 PDT | itr #10 | computing descent direction\n",
      "2016-10-20 19:00:31.492528 PDT | itr #10 | descent direction computed\n",
      "2016-10-20 19:00:31.539557 PDT | itr #10 | backtrack iters: 5\n",
      "2016-10-20 19:00:31.540037 PDT | itr #10 | computing loss after\n",
      "2016-10-20 19:00:31.540449 PDT | itr #10 | optimization finished\n",
      "2016-10-20 19:00:31.557217 PDT | itr #10 | saving snapshot...\n",
      "2016-10-20 19:00:31.557821 PDT | itr #10 | saved\n",
      "2016-10-20 19:00:31.558736 PDT | -----------------------  -------------\n",
      "2016-10-20 19:00:31.559092 PDT | Iteration                 10\n",
      "2016-10-20 19:00:31.559454 PDT | AverageDiscountedReturn   60.5121\n",
      "2016-10-20 19:00:31.559814 PDT | AverageReturn             93.186\n",
      "2016-10-20 19:00:31.560171 PDT | ExplainedVariance          0.863611\n",
      "2016-10-20 19:00:31.560531 PDT | NumTrajs                  43\n",
      "2016-10-20 19:00:31.560893 PDT | Entropy                    0.585462\n",
      "2016-10-20 19:00:31.561250 PDT | Perplexity                 1.79582\n",
      "2016-10-20 19:00:31.561610 PDT | StdReturn                 11.6544\n",
      "2016-10-20 19:00:31.561990 PDT | MaxReturn                100\n",
      "2016-10-20 19:00:31.562332 PDT | MinReturn                 56\n",
      "2016-10-20 19:00:31.562714 PDT | LossBefore                -1.60701e-17\n",
      "2016-10-20 19:00:31.563083 PDT | LossAfter                 -0.00305361\n",
      "2016-10-20 19:00:31.563432 PDT | MeanKLBefore              -2.79901e-20\n",
      "2016-10-20 19:00:31.563754 PDT | MeanKL                     0.00657623\n",
      "2016-10-20 19:00:31.564072 PDT | dLoss                      0.00305361\n",
      "2016-10-20 19:00:31.564390 PDT | -----------------------  -------------\n"
     ]
    },
    {
     "name": "stderr",
     "output_type": "stream",
     "text": [
      "0%                          100%\n",
      "[##############################] | ETA: 00:00:00"
     ]
    },
    {
     "name": "stdout",
     "output_type": "stream",
     "text": [
      "2016-10-20 19:00:31.961121 PDT | itr #11 | fitting baseline...\n",
      "2016-10-20 19:00:31.963584 PDT | itr #11 | fitted\n",
      "2016-10-20 19:00:31.987993 PDT | itr #11 | computing loss before\n"
     ]
    },
    {
     "name": "stderr",
     "output_type": "stream",
     "text": [
      "\n",
      "Total time elapsed: 00:00:00\n"
     ]
    },
    {
     "name": "stdout",
     "output_type": "stream",
     "text": [
      "2016-10-20 19:00:31.999544 PDT | itr #11 | performing update\n",
      "2016-10-20 19:00:32.000276 PDT | itr #11 | computing descent direction\n",
      "2016-10-20 19:00:32.200647 PDT | itr #11 | descent direction computed\n",
      "2016-10-20 19:00:32.250788 PDT | itr #11 | backtrack iters: 4\n",
      "2016-10-20 19:00:32.251304 PDT | itr #11 | computing loss after\n",
      "2016-10-20 19:00:32.251769 PDT | itr #11 | optimization finished\n",
      "2016-10-20 19:00:32.275330 PDT | itr #11 | saving snapshot...\n",
      "2016-10-20 19:00:32.275854 PDT | itr #11 | saved\n",
      "2016-10-20 19:00:32.277748 PDT | -----------------------  -------------\n",
      "2016-10-20 19:00:32.280049 PDT | Iteration                 11\n",
      "2016-10-20 19:00:32.281469 PDT | AverageDiscountedReturn   59.5907\n",
      "2016-10-20 19:00:32.282791 PDT | AverageReturn             91.4091\n",
      "2016-10-20 19:00:32.284054 PDT | ExplainedVariance          0.886144\n",
      "2016-10-20 19:00:32.285306 PDT | NumTrajs                  44\n",
      "2016-10-20 19:00:32.286624 PDT | Entropy                    0.584533\n",
      "2016-10-20 19:00:32.287851 PDT | Perplexity                 1.79415\n",
      "2016-10-20 19:00:32.289091 PDT | StdReturn                 14.6246\n",
      "2016-10-20 19:00:32.290317 PDT | MaxReturn                100\n",
      "2016-10-20 19:00:32.291552 PDT | MinReturn                 20\n",
      "2016-10-20 19:00:32.292781 PDT | LossBefore                -1.25211e-16\n",
      "2016-10-20 19:00:32.293970 PDT | LossAfter                 -0.0137842\n",
      "2016-10-20 19:00:32.295191 PDT | MeanKLBefore               0\n",
      "2016-10-20 19:00:32.296375 PDT | MeanKL                     0.00529601\n",
      "2016-10-20 19:00:32.297590 PDT | dLoss                      0.0137842\n",
      "2016-10-20 19:00:32.298800 PDT | -----------------------  -------------\n"
     ]
    },
    {
     "name": "stderr",
     "output_type": "stream",
     "text": [
      "0%                          100%\n",
      "[##############################] | ETA: 00:00:00\n",
      "Total time elapsed: 00:00:00\n"
     ]
    },
    {
     "name": "stdout",
     "output_type": "stream",
     "text": [
      "2016-10-20 19:00:32.723402 PDT | itr #12 | fitting baseline...\n",
      "2016-10-20 19:00:32.726209 PDT | itr #12 | fitted\n",
      "2016-10-20 19:00:32.749421 PDT | itr #12 | computing loss before\n",
      "2016-10-20 19:00:32.760711 PDT | itr #12 | performing update\n",
      "2016-10-20 19:00:32.761510 PDT | itr #12 | computing descent direction\n",
      "2016-10-20 19:00:32.914024 PDT | itr #12 | descent direction computed\n",
      "2016-10-20 19:00:32.957060 PDT | itr #12 | backtrack iters: 4\n",
      "2016-10-20 19:00:32.957584 PDT | itr #12 | computing loss after\n",
      "2016-10-20 19:00:32.958106 PDT | itr #12 | optimization finished\n",
      "2016-10-20 19:00:32.976905 PDT | itr #12 | saving snapshot...\n",
      "2016-10-20 19:00:32.977727 PDT | itr #12 | saved\n",
      "2016-10-20 19:00:32.979105 PDT | -----------------------  -------------\n",
      "2016-10-20 19:00:32.979538 PDT | Iteration                 12\n",
      "2016-10-20 19:00:32.980164 PDT | AverageDiscountedReturn   63.2197\n",
      "2016-10-20 19:00:32.980806 PDT | AverageReturn             99.561\n",
      "2016-10-20 19:00:32.981399 PDT | ExplainedVariance          0.968963\n",
      "2016-10-20 19:00:32.981896 PDT | NumTrajs                  41\n",
      "2016-10-20 19:00:32.982439 PDT | Entropy                    0.582037\n",
      "2016-10-20 19:00:32.982988 PDT | Perplexity                 1.78968\n",
      "2016-10-20 19:00:32.983532 PDT | StdReturn                  2.77663\n",
      "2016-10-20 19:00:32.984072 PDT | MaxReturn                100\n",
      "2016-10-20 19:00:32.984611 PDT | MinReturn                 82\n",
      "2016-10-20 19:00:32.985145 PDT | LossBefore                 1.11512e-16\n",
      "2016-10-20 19:00:32.985675 PDT | LossAfter                 -0.00941722\n",
      "2016-10-20 19:00:32.986215 PDT | MeanKLBefore               2.52609e-20\n",
      "2016-10-20 19:00:32.986749 PDT | MeanKL                     0.00573963\n",
      "2016-10-20 19:00:32.987284 PDT | dLoss                      0.00941722\n",
      "2016-10-20 19:00:32.987793 PDT | -----------------------  -------------\n"
     ]
    },
    {
     "name": "stderr",
     "output_type": "stream",
     "text": [
      "0%                          100%\n",
      "[##############################] | ETA: 00:00:00"
     ]
    },
    {
     "name": "stdout",
     "output_type": "stream",
     "text": [
      "2016-10-20 19:00:33.439035 PDT | itr #13 | fitting baseline...\n",
      "2016-10-20 19:00:33.441957 PDT | itr #13 | fitted\n",
      "2016-10-20 19:00:33.457464 PDT | itr #13 | computing loss before\n"
     ]
    },
    {
     "name": "stderr",
     "output_type": "stream",
     "text": [
      "\n",
      "Total time elapsed: 00:00:00\n"
     ]
    },
    {
     "name": "stdout",
     "output_type": "stream",
     "text": [
      "2016-10-20 19:00:33.465199 PDT | itr #13 | performing update\n",
      "2016-10-20 19:00:33.465872 PDT | itr #13 | computing descent direction\n",
      "2016-10-20 19:00:33.629333 PDT | itr #13 | descent direction computed\n",
      "2016-10-20 19:00:33.668958 PDT | itr #13 | backtrack iters: 4\n",
      "2016-10-20 19:00:33.669443 PDT | itr #13 | computing loss after\n",
      "2016-10-20 19:00:33.669829 PDT | itr #13 | optimization finished\n",
      "2016-10-20 19:00:33.687677 PDT | itr #13 | saving snapshot...\n",
      "2016-10-20 19:00:33.688193 PDT | itr #13 | saved\n",
      "2016-10-20 19:00:33.689324 PDT | -----------------------  ------------\n",
      "2016-10-20 19:00:33.690157 PDT | Iteration                 13\n",
      "2016-10-20 19:00:33.690890 PDT | AverageDiscountedReturn   62.3396\n",
      "2016-10-20 19:00:33.691562 PDT | AverageReturn             97.381\n",
      "2016-10-20 19:00:33.692155 PDT | ExplainedVariance          0.958788\n",
      "2016-10-20 19:00:33.693061 PDT | NumTrajs                  42\n",
      "2016-10-20 19:00:33.693400 PDT | Entropy                    0.580583\n",
      "2016-10-20 19:00:33.694384 PDT | Perplexity                 1.78708\n",
      "2016-10-20 19:00:33.695530 PDT | StdReturn                  6.34317\n",
      "2016-10-20 19:00:33.695988 PDT | MaxReturn                100\n",
      "2016-10-20 19:00:33.696485 PDT | MinReturn                 71\n",
      "2016-10-20 19:00:33.697041 PDT | LossBefore                 7.0658e-17\n",
      "2016-10-20 19:00:33.697591 PDT | LossAfter                 -0.009178\n",
      "2016-10-20 19:00:33.698167 PDT | MeanKLBefore               3.3267e-20\n",
      "2016-10-20 19:00:33.698709 PDT | MeanKL                     0.00571966\n",
      "2016-10-20 19:00:33.699254 PDT | dLoss                      0.009178\n",
      "2016-10-20 19:00:33.699790 PDT | -----------------------  ------------\n"
     ]
    },
    {
     "name": "stderr",
     "output_type": "stream",
     "text": [
      "0%                          100%\n",
      "[##############################] | ETA: 00:00:00"
     ]
    },
    {
     "name": "stdout",
     "output_type": "stream",
     "text": [
      "2016-10-20 19:00:34.099978 PDT | itr #14 | fitting baseline...\n"
     ]
    },
    {
     "name": "stderr",
     "output_type": "stream",
     "text": [
      "\n",
      "Total time elapsed: 00:00:00\n"
     ]
    },
    {
     "name": "stdout",
     "output_type": "stream",
     "text": [
      "2016-10-20 19:00:34.103426 PDT | itr #14 | fitted\n",
      "2016-10-20 19:00:34.118702 PDT | itr #14 | computing loss before\n",
      "2016-10-20 19:00:34.126566 PDT | itr #14 | performing update\n",
      "2016-10-20 19:00:34.127170 PDT | itr #14 | computing descent direction\n",
      "2016-10-20 19:00:34.307290 PDT | itr #14 | descent direction computed\n",
      "2016-10-20 19:00:34.339558 PDT | itr #14 | backtrack iters: 2\n",
      "2016-10-20 19:00:34.340135 PDT | itr #14 | computing loss after\n",
      "2016-10-20 19:00:34.341822 PDT | itr #14 | optimization finished\n",
      "2016-10-20 19:00:34.359845 PDT | itr #14 | saving snapshot...\n",
      "2016-10-20 19:00:34.360378 PDT | itr #14 | saved\n",
      "2016-10-20 19:00:34.361652 PDT | -----------------------  -------------\n",
      "2016-10-20 19:00:34.362185 PDT | Iteration                 14\n",
      "2016-10-20 19:00:34.365153 PDT | AverageDiscountedReturn   62.0826\n",
      "2016-10-20 19:00:34.365957 PDT | AverageReturn             97.3095\n",
      "2016-10-20 19:00:34.369750 PDT | ExplainedVariance          0.925182\n",
      "2016-10-20 19:00:34.370580 PDT | NumTrajs                  42\n",
      "2016-10-20 19:00:34.371478 PDT | Entropy                    0.580942\n",
      "2016-10-20 19:00:34.372315 PDT | Perplexity                 1.78772\n",
      "2016-10-20 19:00:34.372750 PDT | StdReturn                 11.5933\n",
      "2016-10-20 19:00:34.373309 PDT | MaxReturn                100\n",
      "2016-10-20 19:00:34.373668 PDT | MinReturn                 32\n",
      "2016-10-20 19:00:34.374030 PDT | LossBefore                 8.64246e-17\n",
      "2016-10-20 19:00:34.374362 PDT | LossAfter                 -0.0143727\n",
      "2016-10-20 19:00:34.374692 PDT | MeanKLBefore              -2.03546e-20\n",
      "2016-10-20 19:00:34.375016 PDT | MeanKL                     0.00902428\n",
      "2016-10-20 19:00:34.375336 PDT | dLoss                      0.0143727\n",
      "2016-10-20 19:00:34.375657 PDT | -----------------------  -------------\n"
     ]
    },
    {
     "name": "stderr",
     "output_type": "stream",
     "text": [
      "0%                          100%\n",
      "[##############################] | ETA: 00:00:00"
     ]
    },
    {
     "name": "stdout",
     "output_type": "stream",
     "text": [
      "2016-10-20 19:00:34.800930 PDT | itr #15 | fitting baseline...\n",
      "2016-10-20 19:00:34.803356 PDT | itr #15 | fitted\n",
      "2016-10-20 19:00:34.819022 PDT | itr #15 | computing loss before\n"
     ]
    },
    {
     "name": "stderr",
     "output_type": "stream",
     "text": [
      "\n",
      "Total time elapsed: 00:00:00\n"
     ]
    },
    {
     "name": "stdout",
     "output_type": "stream",
     "text": [
      "2016-10-20 19:00:34.826888 PDT | itr #15 | performing update\n",
      "2016-10-20 19:00:34.827485 PDT | itr #15 | computing descent direction\n",
      "2016-10-20 19:00:34.992066 PDT | itr #15 | descent direction computed\n",
      "2016-10-20 19:00:35.039865 PDT | itr #15 | backtrack iters: 3\n",
      "2016-10-20 19:00:35.040495 PDT | itr #15 | computing loss after\n",
      "2016-10-20 19:00:35.040951 PDT | itr #15 | optimization finished\n",
      "2016-10-20 19:00:35.063473 PDT | itr #15 | saving snapshot...\n",
      "2016-10-20 19:00:35.064134 PDT | itr #15 | saved\n",
      "2016-10-20 19:00:35.065392 PDT | -----------------------  -------------\n",
      "2016-10-20 19:00:35.065862 PDT | Iteration                 15\n",
      "2016-10-20 19:00:35.066328 PDT | AverageDiscountedReturn   63.3047\n",
      "2016-10-20 19:00:35.066731 PDT | AverageReturn             99.7561\n",
      "2016-10-20 19:00:35.067134 PDT | ExplainedVariance          0.98641\n",
      "2016-10-20 19:00:35.067533 PDT | NumTrajs                  41\n",
      "2016-10-20 19:00:35.067939 PDT | Entropy                    0.576641\n",
      "2016-10-20 19:00:35.068336 PDT | Perplexity                 1.78005\n",
      "2016-10-20 19:00:35.068807 PDT | StdReturn                  1.09946\n",
      "2016-10-20 19:00:35.069908 PDT | MaxReturn                100\n",
      "2016-10-20 19:00:35.070335 PDT | MinReturn                 94\n",
      "2016-10-20 19:00:35.070735 PDT | LossBefore                -7.31553e-17\n",
      "2016-10-20 19:00:35.071133 PDT | LossAfter                 -0.00841651\n",
      "2016-10-20 19:00:35.071523 PDT | MeanKLBefore               2.86297e-20\n",
      "2016-10-20 19:00:35.071903 PDT | MeanKL                     0.00510252\n",
      "2016-10-20 19:00:35.072283 PDT | dLoss                      0.00841651\n",
      "2016-10-20 19:00:35.072661 PDT | -----------------------  -------------\n"
     ]
    },
    {
     "name": "stderr",
     "output_type": "stream",
     "text": [
      "0%                          100%\n",
      "[##############################] | ETA: 00:00:00"
     ]
    },
    {
     "name": "stdout",
     "output_type": "stream",
     "text": [
      "2016-10-20 19:00:35.564571 PDT | itr #16 | fitting baseline...\n",
      "2016-10-20 19:00:35.566880 PDT | itr #16 | fitted\n"
     ]
    },
    {
     "name": "stderr",
     "output_type": "stream",
     "text": [
      "\n",
      "Total time elapsed: 00:00:00\n"
     ]
    },
    {
     "name": "stdout",
     "output_type": "stream",
     "text": [
      "2016-10-20 19:00:35.590227 PDT | itr #16 | computing loss before\n",
      "2016-10-20 19:00:35.598850 PDT | itr #16 | performing update\n",
      "2016-10-20 19:00:35.599531 PDT | itr #16 | computing descent direction\n",
      "2016-10-20 19:00:35.767828 PDT | itr #16 | descent direction computed\n",
      "2016-10-20 19:00:35.786015 PDT | itr #16 | backtrack iters: 1\n",
      "2016-10-20 19:00:35.786623 PDT | itr #16 | computing loss after\n",
      "2016-10-20 19:00:35.787284 PDT | itr #16 | optimization finished\n",
      "2016-10-20 19:00:35.807927 PDT | itr #16 | saving snapshot...\n",
      "2016-10-20 19:00:35.808489 PDT | itr #16 | saved\n",
      "2016-10-20 19:00:35.809484 PDT | -----------------------  -------------\n",
      "2016-10-20 19:00:35.809912 PDT | Iteration                 16\n",
      "2016-10-20 19:00:35.810352 PDT | AverageDiscountedReturn   62.5281\n",
      "2016-10-20 19:00:35.810819 PDT | AverageReturn             98.1463\n",
      "2016-10-20 19:00:35.811241 PDT | ExplainedVariance          0.94976\n",
      "2016-10-20 19:00:35.811707 PDT | NumTrajs                  41\n",
      "2016-10-20 19:00:35.812187 PDT | Entropy                    0.575991\n",
      "2016-10-20 19:00:35.812642 PDT | Perplexity                 1.77889\n",
      "2016-10-20 19:00:35.813101 PDT | StdReturn                  9.00558\n",
      "2016-10-20 19:00:35.813539 PDT | MaxReturn                100\n",
      "2016-10-20 19:00:35.813954 PDT | MinReturn                 45\n",
      "2016-10-20 19:00:35.814389 PDT | LossBefore                -2.27683e-16\n",
      "2016-10-20 19:00:35.814843 PDT | LossAfter                 -0.0103165\n",
      "2016-10-20 19:00:35.815486 PDT | MeanKLBefore               0\n",
      "2016-10-20 19:00:35.815987 PDT | MeanKL                     0.00939139\n",
      "2016-10-20 19:00:35.816375 PDT | dLoss                      0.0103165\n",
      "2016-10-20 19:00:35.816805 PDT | -----------------------  -------------\n"
     ]
    },
    {
     "name": "stderr",
     "output_type": "stream",
     "text": [
      "0%                          100%\n",
      "[##############################] | ETA: 00:00:00\n",
      "Total time elapsed: 00:00:00\n"
     ]
    },
    {
     "name": "stdout",
     "output_type": "stream",
     "text": [
      "2016-10-20 19:00:36.294055 PDT | itr #17 | fitting baseline...\n",
      "2016-10-20 19:00:36.297285 PDT | itr #17 | fitted\n",
      "2016-10-20 19:00:36.318814 PDT | itr #17 | computing loss before\n",
      "2016-10-20 19:00:36.330206 PDT | itr #17 | performing update\n",
      "2016-10-20 19:00:36.330841 PDT | itr #17 | computing descent direction\n",
      "2016-10-20 19:00:36.505136 PDT | itr #17 | descent direction computed\n",
      "2016-10-20 19:00:36.552427 PDT | itr #17 | backtrack iters: 5\n",
      "2016-10-20 19:00:36.553057 PDT | itr #17 | computing loss after\n",
      "2016-10-20 19:00:36.553476 PDT | itr #17 | optimization finished\n",
      "2016-10-20 19:00:36.568192 PDT | itr #17 | saving snapshot...\n",
      "2016-10-20 19:00:36.568716 PDT | itr #17 | saved\n",
      "2016-10-20 19:00:36.569619 PDT | -----------------------  -------------\n",
      "2016-10-20 19:00:36.570628 PDT | Iteration                 17\n",
      "2016-10-20 19:00:36.571006 PDT | AverageDiscountedReturn   63.3786\n",
      "2016-10-20 19:00:36.571941 PDT | AverageReturn             99.9512\n",
      "2016-10-20 19:00:36.572313 PDT | ExplainedVariance          0.997493\n",
      "2016-10-20 19:00:36.573242 PDT | NumTrajs                  41\n",
      "2016-10-20 19:00:36.573601 PDT | Entropy                    0.574646\n",
      "2016-10-20 19:00:36.574525 PDT | Perplexity                 1.7765\n",
      "2016-10-20 19:00:36.574882 PDT | StdReturn                  0.308515\n",
      "2016-10-20 19:00:36.575791 PDT | MaxReturn                100\n",
      "2016-10-20 19:00:36.576158 PDT | MinReturn                 98\n",
      "2016-10-20 19:00:36.577071 PDT | LossBefore                -3.43524e-17\n",
      "2016-10-20 19:00:36.577427 PDT | LossAfter                 -0.00105013\n",
      "2016-10-20 19:00:36.578354 PDT | MeanKLBefore               6.24492e-20\n",
      "2016-10-20 19:00:36.578708 PDT | MeanKL                     0.00508441\n",
      "2016-10-20 19:00:36.579606 PDT | dLoss                      0.00105013\n",
      "2016-10-20 19:00:36.579955 PDT | -----------------------  -------------\n"
     ]
    },
    {
     "name": "stderr",
     "output_type": "stream",
     "text": [
      "0%                          100%\n",
      "[##############################] | ETA: 00:00:00\n",
      "Total time elapsed: 00:00:00\n"
     ]
    },
    {
     "name": "stdout",
     "output_type": "stream",
     "text": [
      "2016-10-20 19:00:37.012116 PDT | itr #18 | fitting baseline...\n",
      "2016-10-20 19:00:37.014544 PDT | itr #18 | fitted\n",
      "2016-10-20 19:00:37.038871 PDT | itr #18 | computing loss before\n",
      "2016-10-20 19:00:37.050165 PDT | itr #18 | performing update\n",
      "2016-10-20 19:00:37.050834 PDT | itr #18 | computing descent direction\n",
      "2016-10-20 19:00:37.265410 PDT | itr #18 | descent direction computed\n",
      "2016-10-20 19:00:37.302211 PDT | itr #18 | backtrack iters: 2\n",
      "2016-10-20 19:00:37.302909 PDT | itr #18 | computing loss after\n",
      "2016-10-20 19:00:37.303378 PDT | itr #18 | optimization finished\n",
      "2016-10-20 19:00:37.326862 PDT | itr #18 | saving snapshot...\n",
      "2016-10-20 19:00:37.327568 PDT | itr #18 | saved\n",
      "2016-10-20 19:00:37.328779 PDT | -----------------------  -------------\n",
      "2016-10-20 19:00:37.329292 PDT | Iteration                 18\n",
      "2016-10-20 19:00:37.329806 PDT | AverageDiscountedReturn   63.3317\n",
      "2016-10-20 19:00:37.331315 PDT | AverageReturn             99.8293\n",
      "2016-10-20 19:00:37.331820 PDT | ExplainedVariance          0.998641\n",
      "2016-10-20 19:00:37.332302 PDT | NumTrajs                  41\n",
      "2016-10-20 19:00:37.332821 PDT | Entropy                    0.561066\n",
      "2016-10-20 19:00:37.333349 PDT | Perplexity                 1.75254\n",
      "2016-10-20 19:00:37.333843 PDT | StdReturn                  1.0798\n",
      "2016-10-20 19:00:37.334343 PDT | MaxReturn                100\n",
      "2016-10-20 19:00:37.334834 PDT | MinReturn                 93\n",
      "2016-10-20 19:00:37.335334 PDT | LossBefore                 7.17861e-17\n",
      "2016-10-20 19:00:37.336113 PDT | LossAfter                 -0.00808061\n",
      "2016-10-20 19:00:37.336537 PDT | MeanKLBefore               7.79364e-20\n",
      "2016-10-20 19:00:37.336994 PDT | MeanKL                     0.00625406\n",
      "2016-10-20 19:00:37.337442 PDT | dLoss                      0.00808061\n",
      "2016-10-20 19:00:37.337900 PDT | -----------------------  -------------\n"
     ]
    },
    {
     "name": "stderr",
     "output_type": "stream",
     "text": [
      "0%                          100%\n",
      "[##############################] | ETA: 00:00:00"
     ]
    },
    {
     "name": "stdout",
     "output_type": "stream",
     "text": [
      "2016-10-20 19:00:37.825528 PDT | itr #19 | fitting baseline...\n",
      "2016-10-20 19:00:37.827871 PDT | itr #19 | fitted\n",
      "2016-10-20 19:00:37.844629 PDT | itr #19 | computing loss before\n"
     ]
    },
    {
     "name": "stderr",
     "output_type": "stream",
     "text": [
      "\n",
      "Total time elapsed: 00:00:00\n"
     ]
    },
    {
     "name": "stdout",
     "output_type": "stream",
     "text": [
      "2016-10-20 19:00:37.852502 PDT | itr #19 | performing update\n",
      "2016-10-20 19:00:37.853240 PDT | itr #19 | computing descent direction\n",
      "2016-10-20 19:00:38.007906 PDT | itr #19 | descent direction computed\n",
      "2016-10-20 19:00:38.033286 PDT | itr #19 | backtrack iters: 2\n",
      "2016-10-20 19:00:38.033936 PDT | itr #19 | computing loss after\n",
      "2016-10-20 19:00:38.034393 PDT | itr #19 | optimization finished\n",
      "2016-10-20 19:00:38.053222 PDT | itr #19 | saving snapshot...\n",
      "2016-10-20 19:00:38.053951 PDT | itr #19 | saved\n",
      "2016-10-20 19:00:38.055944 PDT | -----------------------  -------------\n",
      "2016-10-20 19:00:38.056521 PDT | Iteration                 19\n",
      "2016-10-20 19:00:38.057067 PDT | AverageDiscountedReturn   63.3968\n",
      "2016-10-20 19:00:38.057590 PDT | AverageReturn            100\n",
      "2016-10-20 19:00:38.058137 PDT | ExplainedVariance          0.999811\n",
      "2016-10-20 19:00:38.058658 PDT | NumTrajs                  40\n",
      "2016-10-20 19:00:38.059158 PDT | Entropy                    0.541484\n",
      "2016-10-20 19:00:38.060453 PDT | Perplexity                 1.71856\n",
      "2016-10-20 19:00:38.061033 PDT | StdReturn                  0\n",
      "2016-10-20 19:00:38.061582 PDT | MaxReturn                100\n",
      "2016-10-20 19:00:38.062204 PDT | MinReturn                100\n",
      "2016-10-20 19:00:38.062812 PDT | LossBefore                 9.10383e-18\n",
      "2016-10-20 19:00:38.063353 PDT | LossAfter                 -0.00764881\n",
      "2016-10-20 19:00:38.063859 PDT | MeanKLBefore               0\n",
      "2016-10-20 19:00:38.064387 PDT | MeanKL                     0.00583235\n",
      "2016-10-20 19:00:38.064943 PDT | dLoss                      0.00764881\n",
      "2016-10-20 19:00:38.065457 PDT | -----------------------  -------------\n"
     ]
    },
    {
     "name": "stderr",
     "output_type": "stream",
     "text": [
      "0%                          100%\n",
      "[##############################] | ETA: 00:00:00"
     ]
    },
    {
     "name": "stdout",
     "output_type": "stream",
     "text": [
      "2016-10-20 19:00:38.550287 PDT | itr #20 | fitting baseline...\n"
     ]
    },
    {
     "name": "stderr",
     "output_type": "stream",
     "text": [
      "\n",
      "Total time elapsed: 00:00:00\n"
     ]
    },
    {
     "name": "stdout",
     "output_type": "stream",
     "text": [
      "2016-10-20 19:00:38.552912 PDT | itr #20 | fitted\n",
      "2016-10-20 19:00:38.567989 PDT | itr #20 | computing loss before\n",
      "2016-10-20 19:00:38.576273 PDT | itr #20 | performing update\n",
      "2016-10-20 19:00:38.576949 PDT | itr #20 | computing descent direction\n",
      "2016-10-20 19:00:38.722022 PDT | itr #20 | descent direction computed\n",
      "2016-10-20 19:00:38.757819 PDT | itr #20 | backtrack iters: 3\n",
      "2016-10-20 19:00:38.758548 PDT | itr #20 | computing loss after\n",
      "2016-10-20 19:00:38.759079 PDT | itr #20 | optimization finished\n",
      "2016-10-20 19:00:38.776485 PDT | itr #20 | saving snapshot...\n",
      "2016-10-20 19:00:38.777084 PDT | itr #20 | saved\n",
      "2016-10-20 19:00:38.778877 PDT | -----------------------  -------------\n",
      "2016-10-20 19:00:38.779273 PDT | Iteration                 20\n",
      "2016-10-20 19:00:38.779972 PDT | AverageDiscountedReturn   63.3317\n",
      "2016-10-20 19:00:38.780690 PDT | AverageReturn             99.8293\n",
      "2016-10-20 19:00:38.781174 PDT | ExplainedVariance          0.998588\n",
      "2016-10-20 19:00:38.781661 PDT | NumTrajs                  41\n",
      "2016-10-20 19:00:38.782224 PDT | Entropy                    0.557362\n",
      "2016-10-20 19:00:38.782765 PDT | Perplexity                 1.74606\n",
      "2016-10-20 19:00:38.783307 PDT | StdReturn                  1.0798\n",
      "2016-10-20 19:00:38.783804 PDT | MaxReturn                100\n",
      "2016-10-20 19:00:38.784368 PDT | MinReturn                 93\n",
      "2016-10-20 19:00:38.784916 PDT | LossBefore                 4.16164e-17\n",
      "2016-10-20 19:00:38.785449 PDT | LossAfter                 -0.00532061\n",
      "2016-10-20 19:00:38.786298 PDT | MeanKLBefore              -6.26834e-20\n",
      "2016-10-20 19:00:38.786809 PDT | MeanKL                     0.00608272\n",
      "2016-10-20 19:00:38.787308 PDT | dLoss                      0.00532061\n",
      "2016-10-20 19:00:38.787805 PDT | -----------------------  -------------\n"
     ]
    },
    {
     "name": "stderr",
     "output_type": "stream",
     "text": [
      "0%                          100%\n",
      "[##############################] | ETA: 00:00:00"
     ]
    },
    {
     "name": "stdout",
     "output_type": "stream",
     "text": [
      "2016-10-20 19:00:39.252023 PDT | itr #21 | fitting baseline...\n",
      "2016-10-20 19:00:39.254403 PDT | itr #21 | fitted\n",
      "2016-10-20 19:00:39.269348 PDT | itr #21 | computing loss before\n"
     ]
    },
    {
     "name": "stderr",
     "output_type": "stream",
     "text": [
      "\n",
      "Total time elapsed: 00:00:00\n"
     ]
    },
    {
     "name": "stdout",
     "output_type": "stream",
     "text": [
      "2016-10-20 19:00:39.278019 PDT | itr #21 | performing update\n",
      "2016-10-20 19:00:39.278629 PDT | itr #21 | computing descent direction\n",
      "2016-10-20 19:00:39.425448 PDT | itr #21 | descent direction computed\n",
      "2016-10-20 19:00:39.449687 PDT | itr #21 | backtrack iters: 2\n",
      "2016-10-20 19:00:39.450289 PDT | itr #21 | computing loss after\n",
      "2016-10-20 19:00:39.450778 PDT | itr #21 | optimization finished\n",
      "2016-10-20 19:00:39.466364 PDT | itr #21 | saving snapshot...\n",
      "2016-10-20 19:00:39.466987 PDT | itr #21 | saved\n",
      "2016-10-20 19:00:39.467998 PDT | -----------------------  -------------\n",
      "2016-10-20 19:00:39.468459 PDT | Iteration                 21\n",
      "2016-10-20 19:00:39.468850 PDT | AverageDiscountedReturn   63.3968\n",
      "2016-10-20 19:00:39.469295 PDT | AverageReturn            100\n",
      "2016-10-20 19:00:39.469754 PDT | ExplainedVariance          0.999935\n",
      "2016-10-20 19:00:39.470183 PDT | NumTrajs                  40\n",
      "2016-10-20 19:00:39.470574 PDT | Entropy                    0.555122\n",
      "2016-10-20 19:00:39.470963 PDT | Perplexity                 1.74215\n",
      "2016-10-20 19:00:39.471352 PDT | StdReturn                  0\n",
      "2016-10-20 19:00:39.471736 PDT | MaxReturn                100\n",
      "2016-10-20 19:00:39.472114 PDT | MinReturn                100\n",
      "2016-10-20 19:00:39.472494 PDT | LossBefore                -9.25926e-17\n",
      "2016-10-20 19:00:39.472915 PDT | LossAfter                 -0.00645174\n",
      "2016-10-20 19:00:39.473287 PDT | MeanKLBefore               0\n",
      "2016-10-20 19:00:39.473648 PDT | MeanKL                     0.00529271\n",
      "2016-10-20 19:00:39.474062 PDT | dLoss                      0.00645174\n",
      "2016-10-20 19:00:39.474441 PDT | -----------------------  -------------\n"
     ]
    },
    {
     "name": "stderr",
     "output_type": "stream",
     "text": [
      "0%                          100%\n",
      "[##############################] | ETA: 00:00:00\n",
      "Total time elapsed: 00:00:00\n"
     ]
    },
    {
     "name": "stdout",
     "output_type": "stream",
     "text": [
      "2016-10-20 19:00:39.877809 PDT | itr #22 | fitting baseline...\n",
      "2016-10-20 19:00:39.879916 PDT | itr #22 | fitted\n",
      "2016-10-20 19:00:39.894348 PDT | itr #22 | computing loss before\n",
      "2016-10-20 19:00:39.901508 PDT | itr #22 | performing update\n",
      "2016-10-20 19:00:39.901953 PDT | itr #22 | computing descent direction\n",
      "2016-10-20 19:00:40.058177 PDT | itr #22 | descent direction computed\n",
      "2016-10-20 19:00:40.085002 PDT | itr #22 | backtrack iters: 2\n",
      "2016-10-20 19:00:40.085576 PDT | itr #22 | computing loss after\n",
      "2016-10-20 19:00:40.085998 PDT | itr #22 | optimization finished\n",
      "2016-10-20 19:00:40.101105 PDT | itr #22 | saving snapshot...\n",
      "2016-10-20 19:00:40.101847 PDT | itr #22 | saved\n",
      "2016-10-20 19:00:40.102988 PDT | -----------------------  -------------\n",
      "2016-10-20 19:00:40.103588 PDT | Iteration                 22\n",
      "2016-10-20 19:00:40.104076 PDT | AverageDiscountedReturn   63.3968\n",
      "2016-10-20 19:00:40.104547 PDT | AverageReturn            100\n",
      "2016-10-20 19:00:40.105052 PDT | ExplainedVariance          1\n",
      "2016-10-20 19:00:40.105771 PDT | NumTrajs                  40\n",
      "2016-10-20 19:00:40.106382 PDT | Entropy                    0.559577\n",
      "2016-10-20 19:00:40.106817 PDT | Perplexity                 1.74993\n",
      "2016-10-20 19:00:40.107258 PDT | StdReturn                  0\n",
      "2016-10-20 19:00:40.107699 PDT | MaxReturn                100\n",
      "2016-10-20 19:00:40.108146 PDT | MinReturn                100\n",
      "2016-10-20 19:00:40.108582 PDT | LossBefore                -1.94289e-17\n",
      "2016-10-20 19:00:40.109017 PDT | LossAfter                 -0.0050715\n",
      "2016-10-20 19:00:40.109452 PDT | MeanKLBefore               0\n",
      "2016-10-20 19:00:40.109904 PDT | MeanKL                     0.00723955\n",
      "2016-10-20 19:00:40.110351 PDT | dLoss                      0.0050715\n",
      "2016-10-20 19:00:40.112123 PDT | -----------------------  -------------\n"
     ]
    },
    {
     "name": "stderr",
     "output_type": "stream",
     "text": [
      "0%                          100%\n",
      "[##############################] | ETA: 00:00:00\n",
      "Total time elapsed: 00:00:00\n"
     ]
    },
    {
     "name": "stdout",
     "output_type": "stream",
     "text": [
      "2016-10-20 19:00:40.580145 PDT | itr #23 | fitting baseline...\n",
      "2016-10-20 19:00:40.584555 PDT | itr #23 | fitted\n",
      "2016-10-20 19:00:40.605388 PDT | itr #23 | computing loss before\n",
      "2016-10-20 19:00:40.614880 PDT | itr #23 | performing update\n",
      "2016-10-20 19:00:40.616362 PDT | itr #23 | computing descent direction\n",
      "2016-10-20 19:00:40.818174 PDT | itr #23 | descent direction computed\n",
      "2016-10-20 19:00:40.837726 PDT | itr #23 | backtrack iters: 1\n",
      "2016-10-20 19:00:40.839391 PDT | itr #23 | computing loss after\n",
      "2016-10-20 19:00:40.840061 PDT | itr #23 | optimization finished\n",
      "2016-10-20 19:00:40.857392 PDT | itr #23 | saving snapshot...\n",
      "2016-10-20 19:00:40.857940 PDT | itr #23 | saved\n",
      "2016-10-20 19:00:40.858794 PDT | -----------------------  -------------\n",
      "2016-10-20 19:00:40.859173 PDT | Iteration                 23\n",
      "2016-10-20 19:00:40.859546 PDT | AverageDiscountedReturn   63.3968\n",
      "2016-10-20 19:00:40.859878 PDT | AverageReturn            100\n",
      "2016-10-20 19:00:40.860232 PDT | ExplainedVariance          1\n",
      "2016-10-20 19:00:40.860569 PDT | NumTrajs                  40\n",
      "2016-10-20 19:00:40.860909 PDT | Entropy                    0.548869\n",
      "2016-10-20 19:00:40.861232 PDT | Perplexity                 1.73129\n",
      "2016-10-20 19:00:40.861540 PDT | StdReturn                  0\n",
      "2016-10-20 19:00:40.861885 PDT | MaxReturn                100\n",
      "2016-10-20 19:00:40.862193 PDT | MinReturn                100\n",
      "2016-10-20 19:00:40.862490 PDT | LossBefore                -1.40998e-17\n",
      "2016-10-20 19:00:40.862786 PDT | LossAfter                 -0.00697147\n",
      "2016-10-20 19:00:40.863088 PDT | MeanKLBefore               0\n",
      "2016-10-20 19:00:40.863386 PDT | MeanKL                     0.00623011\n",
      "2016-10-20 19:00:40.863683 PDT | dLoss                      0.00697147\n",
      "2016-10-20 19:00:40.863985 PDT | -----------------------  -------------\n"
     ]
    },
    {
     "name": "stderr",
     "output_type": "stream",
     "text": [
      "0%                          100%\n",
      "[##############################] | ETA: 00:00:00"
     ]
    },
    {
     "name": "stdout",
     "output_type": "stream",
     "text": [
      "2016-10-20 19:00:41.347509 PDT | itr #24 | fitting baseline...\n"
     ]
    },
    {
     "name": "stderr",
     "output_type": "stream",
     "text": [
      "\n",
      "Total time elapsed: 00:00:00\n"
     ]
    },
    {
     "name": "stdout",
     "output_type": "stream",
     "text": [
      "2016-10-20 19:00:41.351342 PDT | itr #24 | fitted\n",
      "2016-10-20 19:00:41.368129 PDT | itr #24 | computing loss before\n",
      "2016-10-20 19:00:41.376267 PDT | itr #24 | performing update\n",
      "2016-10-20 19:00:41.377837 PDT | itr #24 | computing descent direction\n",
      "2016-10-20 19:00:41.570439 PDT | itr #24 | descent direction computed\n",
      "2016-10-20 19:00:41.599617 PDT | itr #24 | backtrack iters: 2\n",
      "2016-10-20 19:00:41.600315 PDT | itr #24 | computing loss after\n",
      "2016-10-20 19:00:41.600932 PDT | itr #24 | optimization finished\n",
      "2016-10-20 19:00:41.623416 PDT | itr #24 | saving snapshot...\n",
      "2016-10-20 19:00:41.623954 PDT | itr #24 | saved\n",
      "2016-10-20 19:00:41.625258 PDT | -----------------------  -------------\n",
      "2016-10-20 19:00:41.625800 PDT | Iteration                 24\n",
      "2016-10-20 19:00:41.626341 PDT | AverageDiscountedReturn   63.3968\n",
      "2016-10-20 19:00:41.626866 PDT | AverageReturn            100\n",
      "2016-10-20 19:00:41.627397 PDT | ExplainedVariance          1\n",
      "2016-10-20 19:00:41.627905 PDT | NumTrajs                  40\n",
      "2016-10-20 19:00:41.628404 PDT | Entropy                    0.54404\n",
      "2016-10-20 19:00:41.628901 PDT | Perplexity                 1.72295\n",
      "2016-10-20 19:00:41.629366 PDT | StdReturn                  0\n",
      "2016-10-20 19:00:41.629849 PDT | MaxReturn                100\n",
      "2016-10-20 19:00:41.630314 PDT | MinReturn                100\n",
      "2016-10-20 19:00:41.630780 PDT | LossBefore                 1.19904e-17\n",
      "2016-10-20 19:00:41.631240 PDT | LossAfter                 -0.00713868\n",
      "2016-10-20 19:00:41.631698 PDT | MeanKLBefore               0\n",
      "2016-10-20 19:00:41.632156 PDT | MeanKL                     0.00718607\n",
      "2016-10-20 19:00:41.632615 PDT | dLoss                      0.00713868\n",
      "2016-10-20 19:00:41.633076 PDT | -----------------------  -------------\n"
     ]
    },
    {
     "name": "stderr",
     "output_type": "stream",
     "text": [
      "0%                          100%\n",
      "[##############################] | ETA: 00:00:00\n",
      "Total time elapsed: 00:00:00\n"
     ]
    },
    {
     "name": "stdout",
     "output_type": "stream",
     "text": [
      "2016-10-20 19:00:42.110931 PDT | itr #25 | fitting baseline...\n",
      "2016-10-20 19:00:42.113145 PDT | itr #25 | fitted\n",
      "2016-10-20 19:00:42.133374 PDT | itr #25 | computing loss before\n",
      "2016-10-20 19:00:42.143958 PDT | itr #25 | performing update\n",
      "2016-10-20 19:00:42.144718 PDT | itr #25 | computing descent direction\n",
      "2016-10-20 19:00:42.325628 PDT | itr #25 | descent direction computed\n",
      "2016-10-20 19:00:42.348248 PDT | itr #25 | backtrack iters: 1\n",
      "2016-10-20 19:00:42.349189 PDT | itr #25 | computing loss after\n",
      "2016-10-20 19:00:42.350537 PDT | itr #25 | optimization finished\n",
      "2016-10-20 19:00:42.367794 PDT | itr #25 | saving snapshot...\n",
      "2016-10-20 19:00:42.369327 PDT | itr #25 | saved\n",
      "2016-10-20 19:00:42.370936 PDT | -----------------------  -------------\n",
      "2016-10-20 19:00:42.371527 PDT | Iteration                 25\n",
      "2016-10-20 19:00:42.372104 PDT | AverageDiscountedReturn   63.3968\n",
      "2016-10-20 19:00:42.372683 PDT | AverageReturn            100\n",
      "2016-10-20 19:00:42.373262 PDT | ExplainedVariance          1\n",
      "2016-10-20 19:00:42.373848 PDT | NumTrajs                  40\n",
      "2016-10-20 19:00:42.374422 PDT | Entropy                    0.547767\n",
      "2016-10-20 19:00:42.374994 PDT | Perplexity                 1.72939\n",
      "2016-10-20 19:00:42.375624 PDT | StdReturn                  0\n",
      "2016-10-20 19:00:42.378416 PDT | MaxReturn                100\n",
      "2016-10-20 19:00:42.379116 PDT | MinReturn                100\n",
      "2016-10-20 19:00:42.379637 PDT | LossBefore                 2.44249e-18\n",
      "2016-10-20 19:00:42.380191 PDT | LossAfter                 -0.00820559\n",
      "2016-10-20 19:00:42.380812 PDT | MeanKLBefore               0\n",
      "2016-10-20 19:00:42.381244 PDT | MeanKL                     0.00690646\n",
      "2016-10-20 19:00:42.381601 PDT | dLoss                      0.00820559\n",
      "2016-10-20 19:00:42.381948 PDT | -----------------------  -------------\n"
     ]
    },
    {
     "name": "stderr",
     "output_type": "stream",
     "text": [
      "0%                          100%\n",
      "[##############################] | ETA: 00:00:00\n",
      "Total time elapsed: 00:00:00\n"
     ]
    },
    {
     "name": "stdout",
     "output_type": "stream",
     "text": [
      "2016-10-20 19:00:42.856616 PDT | itr #26 | fitting baseline...\n",
      "2016-10-20 19:00:42.858804 PDT | itr #26 | fitted\n",
      "2016-10-20 19:00:42.875442 PDT | itr #26 | computing loss before\n",
      "2016-10-20 19:00:42.883696 PDT | itr #26 | performing update\n",
      "2016-10-20 19:00:42.884284 PDT | itr #26 | computing descent direction\n",
      "2016-10-20 19:00:43.055138 PDT | itr #26 | descent direction computed\n",
      "2016-10-20 19:00:43.076617 PDT | itr #26 | backtrack iters: 1\n",
      "2016-10-20 19:00:43.078127 PDT | itr #26 | computing loss after\n",
      "2016-10-20 19:00:43.078656 PDT | itr #26 | optimization finished\n",
      "2016-10-20 19:00:43.102140 PDT | itr #26 | saving snapshot...\n",
      "2016-10-20 19:00:43.102828 PDT | itr #26 | saved\n",
      "2016-10-20 19:00:43.103704 PDT | -----------------------  -------------\n",
      "2016-10-20 19:00:43.104257 PDT | Iteration                 26\n",
      "2016-10-20 19:00:43.107446 PDT | AverageDiscountedReturn   63.3968\n",
      "2016-10-20 19:00:43.108240 PDT | AverageReturn            100\n",
      "2016-10-20 19:00:43.108912 PDT | ExplainedVariance          1\n",
      "2016-10-20 19:00:43.109401 PDT | NumTrajs                  40\n",
      "2016-10-20 19:00:43.111251 PDT | Entropy                    0.554623\n",
      "2016-10-20 19:00:43.112482 PDT | Perplexity                 1.74128\n",
      "2016-10-20 19:00:43.113651 PDT | StdReturn                  0\n",
      "2016-10-20 19:00:43.114782 PDT | MaxReturn                100\n",
      "2016-10-20 19:00:43.115767 PDT | MinReturn                100\n",
      "2016-10-20 19:00:43.116781 PDT | LossBefore                -1.55431e-17\n",
      "2016-10-20 19:00:43.117733 PDT | LossAfter                 -0.00737322\n",
      "2016-10-20 19:00:43.118652 PDT | MeanKLBefore               0\n",
      "2016-10-20 19:00:43.119557 PDT | MeanKL                     0.00730304\n",
      "2016-10-20 19:00:43.120458 PDT | dLoss                      0.00737322\n",
      "2016-10-20 19:00:43.121353 PDT | -----------------------  -------------\n"
     ]
    },
    {
     "name": "stderr",
     "output_type": "stream",
     "text": [
      "0%                          100%\n",
      "[##############################] | ETA: 00:00:00"
     ]
    },
    {
     "name": "stdout",
     "output_type": "stream",
     "text": [
      "2016-10-20 19:00:43.570485 PDT | itr #27 | fitting baseline...\n",
      "2016-10-20 19:00:43.572645 PDT | itr #27 | fitted\n",
      "2016-10-20 19:00:43.587436 PDT | itr #27 | computing loss before\n"
     ]
    },
    {
     "name": "stderr",
     "output_type": "stream",
     "text": [
      "\n",
      "Total time elapsed: 00:00:00\n"
     ]
    },
    {
     "name": "stdout",
     "output_type": "stream",
     "text": [
      "2016-10-20 19:00:43.597841 PDT | itr #27 | performing update\n",
      "2016-10-20 19:00:43.598737 PDT | itr #27 | computing descent direction\n",
      "2016-10-20 19:00:43.803375 PDT | itr #27 | descent direction computed\n",
      "2016-10-20 19:00:43.850575 PDT | itr #27 | backtrack iters: 3\n",
      "2016-10-20 19:00:43.851258 PDT | itr #27 | computing loss after\n",
      "2016-10-20 19:00:43.851781 PDT | itr #27 | optimization finished\n",
      "2016-10-20 19:00:43.870809 PDT | itr #27 | saving snapshot...\n",
      "2016-10-20 19:00:43.871628 PDT | itr #27 | saved\n",
      "2016-10-20 19:00:43.873297 PDT | -----------------------  -------------\n",
      "2016-10-20 19:00:43.873736 PDT | Iteration                 27\n",
      "2016-10-20 19:00:43.874564 PDT | AverageDiscountedReturn   63.3968\n",
      "2016-10-20 19:00:43.875527 PDT | AverageReturn            100\n",
      "2016-10-20 19:00:43.875871 PDT | ExplainedVariance          1\n",
      "2016-10-20 19:00:43.876799 PDT | NumTrajs                  40\n",
      "2016-10-20 19:00:43.877133 PDT | Entropy                    0.543012\n",
      "2016-10-20 19:00:43.878076 PDT | Perplexity                 1.72118\n",
      "2016-10-20 19:00:43.878408 PDT | StdReturn                  0\n",
      "2016-10-20 19:00:43.879131 PDT | MaxReturn                100\n",
      "2016-10-20 19:00:43.880053 PDT | MinReturn                100\n",
      "2016-10-20 19:00:43.880382 PDT | LossBefore                -3.69704e-17\n",
      "2016-10-20 19:00:43.881418 PDT | LossAfter                 -0.00302004\n",
      "2016-10-20 19:00:43.881894 PDT | MeanKLBefore               0\n",
      "2016-10-20 19:00:43.882361 PDT | MeanKL                     0.00696998\n",
      "2016-10-20 19:00:43.883189 PDT | dLoss                      0.00302004\n",
      "2016-10-20 19:00:43.884445 PDT | -----------------------  -------------\n"
     ]
    },
    {
     "name": "stderr",
     "output_type": "stream",
     "text": [
      "0%                          100%\n",
      "[##############################] | ETA: 00:00:00"
     ]
    },
    {
     "name": "stdout",
     "output_type": "stream",
     "text": [
      "2016-10-20 19:00:44.308907 PDT | itr #28 | fitting baseline...\n"
     ]
    },
    {
     "name": "stderr",
     "output_type": "stream",
     "text": [
      "\n",
      "Total time elapsed: 00:00:00\n"
     ]
    },
    {
     "name": "stdout",
     "output_type": "stream",
     "text": [
      "2016-10-20 19:00:44.311975 PDT | itr #28 | fitted\n",
      "2016-10-20 19:00:44.335838 PDT | itr #28 | computing loss before\n",
      "2016-10-20 19:00:44.347347 PDT | itr #28 | performing update\n",
      "2016-10-20 19:00:44.348108 PDT | itr #28 | computing descent direction\n",
      "2016-10-20 19:00:44.562811 PDT | itr #28 | descent direction computed\n",
      "2016-10-20 19:00:44.609945 PDT | itr #28 | backtrack iters: 3\n",
      "2016-10-20 19:00:44.610514 PDT | itr #28 | computing loss after\n",
      "2016-10-20 19:00:44.611947 PDT | itr #28 | optimization finished\n",
      "2016-10-20 19:00:44.630093 PDT | itr #28 | saving snapshot...\n",
      "2016-10-20 19:00:44.634828 PDT | itr #28 | saved\n",
      "2016-10-20 19:00:44.636433 PDT | -----------------------  -------------\n",
      "2016-10-20 19:00:44.637594 PDT | Iteration                 28\n",
      "2016-10-20 19:00:44.638137 PDT | AverageDiscountedReturn   63.3968\n",
      "2016-10-20 19:00:44.638656 PDT | AverageReturn            100\n",
      "2016-10-20 19:00:44.638990 PDT | ExplainedVariance          1\n",
      "2016-10-20 19:00:44.640857 PDT | NumTrajs                  40\n",
      "2016-10-20 19:00:44.641401 PDT | Entropy                    0.542668\n",
      "2016-10-20 19:00:44.642461 PDT | Perplexity                 1.72059\n",
      "2016-10-20 19:00:44.643500 PDT | StdReturn                  0\n",
      "2016-10-20 19:00:44.644516 PDT | MaxReturn                100\n",
      "2016-10-20 19:00:44.645529 PDT | MinReturn                100\n",
      "2016-10-20 19:00:44.646558 PDT | LossBefore                -4.09672e-17\n",
      "2016-10-20 19:00:44.647460 PDT | LossAfter                 -0.00530221\n",
      "2016-10-20 19:00:44.648362 PDT | MeanKLBefore               0\n",
      "2016-10-20 19:00:44.649373 PDT | MeanKL                     0.0064201\n",
      "2016-10-20 19:00:44.649886 PDT | dLoss                      0.00530221\n",
      "2016-10-20 19:00:44.650914 PDT | -----------------------  -------------\n"
     ]
    },
    {
     "name": "stderr",
     "output_type": "stream",
     "text": [
      "0%                          100%\n",
      "[##############################] | ETA: 00:00:00"
     ]
    },
    {
     "name": "stdout",
     "output_type": "stream",
     "text": [
      "2016-10-20 19:00:45.094463 PDT | itr #29 | fitting baseline...\n",
      "2016-10-20 19:00:45.096871 PDT | itr #29 | fitted\n"
     ]
    },
    {
     "name": "stderr",
     "output_type": "stream",
     "text": [
      "\n",
      "Total time elapsed: 00:00:00\n"
     ]
    },
    {
     "name": "stdout",
     "output_type": "stream",
     "text": [
      "2016-10-20 19:00:45.120525 PDT | itr #29 | computing loss before\n",
      "2016-10-20 19:00:45.132383 PDT | itr #29 | performing update\n",
      "2016-10-20 19:00:45.133781 PDT | itr #29 | computing descent direction\n",
      "2016-10-20 19:00:45.343846 PDT | itr #29 | descent direction computed\n",
      "2016-10-20 19:00:45.413124 PDT | itr #29 | backtrack iters: 5\n",
      "2016-10-20 19:00:45.413651 PDT | itr #29 | computing loss after\n",
      "2016-10-20 19:00:45.414176 PDT | itr #29 | optimization finished\n",
      "2016-10-20 19:00:45.436762 PDT | itr #29 | saving snapshot...\n",
      "2016-10-20 19:00:45.438356 PDT | itr #29 | saved\n",
      "2016-10-20 19:00:45.439560 PDT | -----------------------  -------------\n",
      "2016-10-20 19:00:45.440036 PDT | Iteration                 29\n",
      "2016-10-20 19:00:45.440644 PDT | AverageDiscountedReturn   63.3968\n",
      "2016-10-20 19:00:45.441233 PDT | AverageReturn            100\n",
      "2016-10-20 19:00:45.442302 PDT | ExplainedVariance          1\n",
      "2016-10-20 19:00:45.443355 PDT | NumTrajs                  40\n",
      "2016-10-20 19:00:45.444384 PDT | Entropy                    0.539331\n",
      "2016-10-20 19:00:45.445409 PDT | Perplexity                 1.71486\n",
      "2016-10-20 19:00:45.446448 PDT | StdReturn                  0\n",
      "2016-10-20 19:00:45.447474 PDT | MaxReturn                100\n",
      "2016-10-20 19:00:45.448576 PDT | MinReturn                100\n",
      "2016-10-20 19:00:45.448994 PDT | LossBefore                 1.73195e-17\n",
      "2016-10-20 19:00:45.449452 PDT | LossAfter                 -0.00291395\n",
      "2016-10-20 19:00:45.454194 PDT | MeanKLBefore               0\n",
      "2016-10-20 19:00:45.454956 PDT | MeanKL                     0.00478742\n",
      "2016-10-20 19:00:45.455530 PDT | dLoss                      0.00291395\n",
      "2016-10-20 19:00:45.456026 PDT | -----------------------  -------------\n"
     ]
    },
    {
     "name": "stderr",
     "output_type": "stream",
     "text": [
      "0%                          100%\n",
      "[##############################] | ETA: 00:00:00"
     ]
    },
    {
     "name": "stdout",
     "output_type": "stream",
     "text": [
      "2016-10-20 19:00:45.867372 PDT | itr #30 | fitting baseline...\n",
      "2016-10-20 19:00:45.869810 PDT | itr #30 | fitted\n"
     ]
    },
    {
     "name": "stderr",
     "output_type": "stream",
     "text": [
      "\n",
      "Total time elapsed: 00:00:00\n"
     ]
    },
    {
     "name": "stdout",
     "output_type": "stream",
     "text": [
      "2016-10-20 19:00:45.892786 PDT | itr #30 | computing loss before\n",
      "2016-10-20 19:00:45.906311 PDT | itr #30 | performing update\n",
      "2016-10-20 19:00:45.907020 PDT | itr #30 | computing descent direction\n",
      "2016-10-20 19:00:46.085325 PDT | itr #30 | descent direction computed\n",
      "2016-10-20 19:00:46.109465 PDT | itr #30 | backtrack iters: 2\n",
      "2016-10-20 19:00:46.110032 PDT | itr #30 | computing loss after\n",
      "2016-10-20 19:00:46.115025 PDT | itr #30 | optimization finished\n",
      "2016-10-20 19:00:46.133153 PDT | itr #30 | saving snapshot...\n",
      "2016-10-20 19:00:46.134079 PDT | itr #30 | saved\n",
      "2016-10-20 19:00:46.135952 PDT | -----------------------  -------------\n",
      "2016-10-20 19:00:46.136483 PDT | Iteration                 30\n",
      "2016-10-20 19:00:46.137213 PDT | AverageDiscountedReturn   63.3968\n",
      "2016-10-20 19:00:46.139507 PDT | AverageReturn            100\n",
      "2016-10-20 19:00:46.140347 PDT | ExplainedVariance          1\n",
      "2016-10-20 19:00:46.140883 PDT | NumTrajs                  40\n",
      "2016-10-20 19:00:46.141621 PDT | Entropy                    0.540648\n",
      "2016-10-20 19:00:46.142364 PDT | Perplexity                 1.71712\n",
      "2016-10-20 19:00:46.143001 PDT | StdReturn                  0\n",
      "2016-10-20 19:00:46.143633 PDT | MaxReturn                100\n",
      "2016-10-20 19:00:46.144262 PDT | MinReturn                100\n",
      "2016-10-20 19:00:46.144892 PDT | LossBefore                -1.36557e-17\n",
      "2016-10-20 19:00:46.145523 PDT | LossAfter                 -0.00473971\n",
      "2016-10-20 19:00:46.146158 PDT | MeanKLBefore               0\n",
      "2016-10-20 19:00:46.146787 PDT | MeanKL                     0.00723747\n",
      "2016-10-20 19:00:46.147456 PDT | dLoss                      0.00473971\n",
      "2016-10-20 19:00:46.148083 PDT | -----------------------  -------------\n"
     ]
    },
    {
     "name": "stderr",
     "output_type": "stream",
     "text": [
      "0%                          100%\n",
      "[##############################] | ETA: 00:00:00\n",
      "Total time elapsed: 00:00:00\n"
     ]
    },
    {
     "name": "stdout",
     "output_type": "stream",
     "text": [
      "2016-10-20 19:00:46.569336 PDT | itr #31 | fitting baseline...\n",
      "2016-10-20 19:00:46.571536 PDT | itr #31 | fitted\n",
      "2016-10-20 19:00:46.587012 PDT | itr #31 | computing loss before\n",
      "2016-10-20 19:00:46.598268 PDT | itr #31 | performing update\n",
      "2016-10-20 19:00:46.598956 PDT | itr #31 | computing descent direction\n",
      "2016-10-20 19:00:46.767832 PDT | itr #31 | descent direction computed\n",
      "2016-10-20 19:00:46.787452 PDT | itr #31 | backtrack iters: 1\n",
      "2016-10-20 19:00:46.788363 PDT | itr #31 | computing loss after\n",
      "2016-10-20 19:00:46.789434 PDT | itr #31 | optimization finished\n",
      "2016-10-20 19:00:46.806333 PDT | itr #31 | saving snapshot...\n",
      "2016-10-20 19:00:46.807061 PDT | itr #31 | saved\n",
      "2016-10-20 19:00:46.808202 PDT | -----------------------  -------------\n",
      "2016-10-20 19:00:46.808693 PDT | Iteration                 31\n",
      "2016-10-20 19:00:46.809334 PDT | AverageDiscountedReturn   63.3968\n",
      "2016-10-20 19:00:46.810117 PDT | AverageReturn            100\n",
      "2016-10-20 19:00:46.811815 PDT | ExplainedVariance          1\n",
      "2016-10-20 19:00:46.813958 PDT | NumTrajs                  40\n",
      "2016-10-20 19:00:46.815473 PDT | Entropy                    0.543593\n",
      "2016-10-20 19:00:46.817331 PDT | Perplexity                 1.72218\n",
      "2016-10-20 19:00:46.819640 PDT | StdReturn                  0\n",
      "2016-10-20 19:00:46.821029 PDT | MaxReturn                100\n",
      "2016-10-20 19:00:46.821754 PDT | MinReturn                100\n",
      "2016-10-20 19:00:46.822361 PDT | LossBefore                 2.55351e-18\n",
      "2016-10-20 19:00:46.823338 PDT | LossAfter                 -0.00791662\n",
      "2016-10-20 19:00:46.823779 PDT | MeanKLBefore               0\n",
      "2016-10-20 19:00:46.824280 PDT | MeanKL                     0.00793037\n",
      "2016-10-20 19:00:46.824693 PDT | dLoss                      0.00791662\n",
      "2016-10-20 19:00:46.825132 PDT | -----------------------  -------------\n"
     ]
    },
    {
     "name": "stderr",
     "output_type": "stream",
     "text": [
      "0%                          100%\n",
      "[##############################] | ETA: 00:00:00\n",
      "Total time elapsed: 00:00:00\n"
     ]
    },
    {
     "name": "stdout",
     "output_type": "stream",
     "text": [
      "2016-10-20 19:00:47.285096 PDT | itr #32 | fitting baseline...\n",
      "2016-10-20 19:00:47.287455 PDT | itr #32 | fitted\n",
      "2016-10-20 19:00:47.303386 PDT | itr #32 | computing loss before\n",
      "2016-10-20 19:00:47.313906 PDT | itr #32 | performing update\n",
      "2016-10-20 19:00:47.314459 PDT | itr #32 | computing descent direction\n",
      "2016-10-20 19:00:47.472602 PDT | itr #32 | descent direction computed\n",
      "2016-10-20 19:00:47.488902 PDT | itr #32 | backtrack iters: 1\n",
      "2016-10-20 19:00:47.489439 PDT | itr #32 | computing loss after\n",
      "2016-10-20 19:00:47.489859 PDT | itr #32 | optimization finished\n",
      "2016-10-20 19:00:47.510477 PDT | itr #32 | saving snapshot...\n",
      "2016-10-20 19:00:47.512655 PDT | itr #32 | saved\n",
      "2016-10-20 19:00:47.513934 PDT | -----------------------  -------------\n",
      "2016-10-20 19:00:47.514656 PDT | Iteration                 32\n",
      "2016-10-20 19:00:47.515305 PDT | AverageDiscountedReturn   63.3968\n",
      "2016-10-20 19:00:47.516051 PDT | AverageReturn            100\n",
      "2016-10-20 19:00:47.516842 PDT | ExplainedVariance          1\n",
      "2016-10-20 19:00:47.517482 PDT | NumTrajs                  40\n",
      "2016-10-20 19:00:47.518113 PDT | Entropy                    0.544161\n",
      "2016-10-20 19:00:47.518736 PDT | Perplexity                 1.72316\n",
      "2016-10-20 19:00:47.519350 PDT | StdReturn                  0\n",
      "2016-10-20 19:00:47.519962 PDT | MaxReturn                100\n",
      "2016-10-20 19:00:47.520575 PDT | MinReturn                100\n",
      "2016-10-20 19:00:47.521142 PDT | LossBefore                 8.71525e-17\n",
      "2016-10-20 19:00:47.521710 PDT | LossAfter                 -0.00562679\n",
      "2016-10-20 19:00:47.522283 PDT | MeanKLBefore               0\n",
      "2016-10-20 19:00:47.522860 PDT | MeanKL                     0.00957386\n",
      "2016-10-20 19:00:47.523501 PDT | dLoss                      0.00562679\n",
      "2016-10-20 19:00:47.524102 PDT | -----------------------  -------------\n"
     ]
    },
    {
     "name": "stderr",
     "output_type": "stream",
     "text": [
      "0%                          100%\n",
      "[##############################] | ETA: 00:00:00"
     ]
    },
    {
     "name": "stdout",
     "output_type": "stream",
     "text": [
      "2016-10-20 19:00:47.962404 PDT | itr #33 | fitting baseline...\n"
     ]
    },
    {
     "name": "stderr",
     "output_type": "stream",
     "text": [
      "\n",
      "Total time elapsed: 00:00:00\n"
     ]
    },
    {
     "name": "stdout",
     "output_type": "stream",
     "text": [
      "2016-10-20 19:00:47.965474 PDT | itr #33 | fitted\n",
      "2016-10-20 19:00:47.989467 PDT | itr #33 | computing loss before\n",
      "2016-10-20 19:00:48.001152 PDT | itr #33 | performing update\n",
      "2016-10-20 19:00:48.001936 PDT | itr #33 | computing descent direction\n",
      "2016-10-20 19:00:48.217257 PDT | itr #33 | descent direction computed\n",
      "2016-10-20 19:00:48.241170 PDT | itr #33 | backtrack iters: 1\n",
      "2016-10-20 19:00:48.241701 PDT | itr #33 | computing loss after\n",
      "2016-10-20 19:00:48.245278 PDT | itr #33 | optimization finished\n",
      "2016-10-20 19:00:48.268878 PDT | itr #33 | saving snapshot...\n",
      "2016-10-20 19:00:48.269617 PDT | itr #33 | saved\n",
      "2016-10-20 19:00:48.270827 PDT | -----------------------  -------------\n",
      "2016-10-20 19:00:48.271268 PDT | Iteration                 33\n",
      "2016-10-20 19:00:48.271692 PDT | AverageDiscountedReturn   63.3968\n",
      "2016-10-20 19:00:48.272112 PDT | AverageReturn            100\n",
      "2016-10-20 19:00:48.272530 PDT | ExplainedVariance          1\n",
      "2016-10-20 19:00:48.272941 PDT | NumTrajs                  40\n",
      "2016-10-20 19:00:48.273352 PDT | Entropy                    0.544124\n",
      "2016-10-20 19:00:48.273789 PDT | Perplexity                 1.7231\n",
      "2016-10-20 19:00:48.274208 PDT | StdReturn                  0\n",
      "2016-10-20 19:00:48.274608 PDT | MaxReturn                100\n",
      "2016-10-20 19:00:48.275002 PDT | MinReturn                100\n",
      "2016-10-20 19:00:48.275395 PDT | LossBefore                -1.36557e-17\n",
      "2016-10-20 19:00:48.275786 PDT | LossAfter                 -0.00499894\n",
      "2016-10-20 19:00:48.276178 PDT | MeanKLBefore               0\n",
      "2016-10-20 19:00:48.276555 PDT | MeanKL                     0.00763048\n",
      "2016-10-20 19:00:48.276936 PDT | dLoss                      0.00499894\n",
      "2016-10-20 19:00:48.277310 PDT | -----------------------  -------------\n"
     ]
    },
    {
     "name": "stderr",
     "output_type": "stream",
     "text": [
      "0%                          100%\n",
      "[##############################] | ETA: 00:00:00"
     ]
    },
    {
     "name": "stdout",
     "output_type": "stream",
     "text": [
      "2016-10-20 19:00:48.724236 PDT | itr #34 | fitting baseline...\n",
      "2016-10-20 19:00:48.726645 PDT | itr #34 | fitted\n"
     ]
    },
    {
     "name": "stderr",
     "output_type": "stream",
     "text": [
      "\n",
      "Total time elapsed: 00:00:00\n"
     ]
    },
    {
     "name": "stdout",
     "output_type": "stream",
     "text": [
      "2016-10-20 19:00:48.750533 PDT | itr #34 | computing loss before\n",
      "2016-10-20 19:00:48.762435 PDT | itr #34 | performing update\n",
      "2016-10-20 19:00:48.764334 PDT | itr #34 | computing descent direction\n",
      "2016-10-20 19:00:48.955865 PDT | itr #34 | descent direction computed\n",
      "2016-10-20 19:00:48.967342 PDT | itr #34 | backtrack iters: 0\n",
      "2016-10-20 19:00:48.968156 PDT | itr #34 | computing loss after\n",
      "2016-10-20 19:00:48.968759 PDT | itr #34 | optimization finished\n",
      "2016-10-20 19:00:48.986953 PDT | itr #34 | saving snapshot...\n",
      "2016-10-20 19:00:48.987480 PDT | itr #34 | saved\n",
      "2016-10-20 19:00:48.988349 PDT | -----------------------  -------------\n",
      "2016-10-20 19:00:48.988699 PDT | Iteration                 34\n",
      "2016-10-20 19:00:48.989047 PDT | AverageDiscountedReturn   58.7858\n",
      "2016-10-20 19:00:48.989375 PDT | AverageReturn             92.1364\n",
      "2016-10-20 19:00:48.989957 PDT | ExplainedVariance          0.885407\n",
      "2016-10-20 19:00:48.992003 PDT | NumTrajs                  44\n",
      "2016-10-20 19:00:48.992876 PDT | Entropy                    0.529301\n",
      "2016-10-20 19:00:48.994383 PDT | Perplexity                 1.69775\n",
      "2016-10-20 19:00:48.995477 PDT | StdReturn                 24.872\n",
      "2016-10-20 19:00:48.996471 PDT | MaxReturn                100\n",
      "2016-10-20 19:00:48.997324 PDT | MinReturn                 12\n",
      "2016-10-20 19:00:48.998157 PDT | LossBefore                -4.38105e-17\n",
      "2016-10-20 19:00:48.999316 PDT | LossAfter                 -0.0206034\n",
      "2016-10-20 19:00:49.000329 PDT | MeanKLBefore               0\n",
      "2016-10-20 19:00:49.001068 PDT | MeanKL                     0.00622162\n",
      "2016-10-20 19:00:49.001820 PDT | dLoss                      0.0206034\n",
      "2016-10-20 19:00:49.002567 PDT | -----------------------  -------------\n"
     ]
    },
    {
     "name": "stderr",
     "output_type": "stream",
     "text": [
      "0%                          100%\n",
      "[##############################] | ETA: 00:00:00"
     ]
    },
    {
     "name": "stdout",
     "output_type": "stream",
     "text": [
      "2016-10-20 19:00:49.461778 PDT | itr #35 | fitting baseline...\n"
     ]
    },
    {
     "name": "stderr",
     "output_type": "stream",
     "text": [
      "\n",
      "Total time elapsed: 00:00:00\n"
     ]
    },
    {
     "name": "stdout",
     "output_type": "stream",
     "text": [
      "2016-10-20 19:00:49.465270 PDT | itr #35 | fitted\n",
      "2016-10-20 19:00:49.489384 PDT | itr #35 | computing loss before\n",
      "2016-10-20 19:00:49.500841 PDT | itr #35 | performing update\n",
      "2016-10-20 19:00:49.501605 PDT | itr #35 | computing descent direction\n",
      "2016-10-20 19:00:49.694288 PDT | itr #35 | descent direction computed\n",
      "2016-10-20 19:00:49.710841 PDT | itr #35 | backtrack iters: 1\n",
      "2016-10-20 19:00:49.711478 PDT | itr #35 | computing loss after\n",
      "2016-10-20 19:00:49.711910 PDT | itr #35 | optimization finished\n",
      "2016-10-20 19:00:49.735178 PDT | itr #35 | saving snapshot...\n",
      "2016-10-20 19:00:49.735955 PDT | itr #35 | saved\n",
      "2016-10-20 19:00:49.737053 PDT | -----------------------  -------------\n",
      "2016-10-20 19:00:49.737547 PDT | Iteration                 35\n",
      "2016-10-20 19:00:49.738029 PDT | AverageDiscountedReturn   63.3968\n",
      "2016-10-20 19:00:49.738481 PDT | AverageReturn            100\n",
      "2016-10-20 19:00:49.738910 PDT | ExplainedVariance          0.98545\n",
      "2016-10-20 19:00:49.739293 PDT | NumTrajs                  40\n",
      "2016-10-20 19:00:49.739667 PDT | Entropy                    0.539437\n",
      "2016-10-20 19:00:49.740037 PDT | Perplexity                 1.71504\n",
      "2016-10-20 19:00:49.740402 PDT | StdReturn                  0\n",
      "2016-10-20 19:00:49.740765 PDT | MaxReturn                100\n",
      "2016-10-20 19:00:49.741125 PDT | MinReturn                100\n",
      "2016-10-20 19:00:49.741480 PDT | LossBefore                 2.01211e-17\n",
      "2016-10-20 19:00:49.741852 PDT | LossAfter                 -0.00539182\n",
      "2016-10-20 19:00:49.742277 PDT | MeanKLBefore               0\n",
      "2016-10-20 19:00:49.742929 PDT | MeanKL                     0.00950106\n",
      "2016-10-20 19:00:49.743629 PDT | dLoss                      0.00539182\n",
      "2016-10-20 19:00:49.744221 PDT | -----------------------  -------------\n"
     ]
    },
    {
     "name": "stderr",
     "output_type": "stream",
     "text": [
      "0%                          100%\n",
      "[##############################] | ETA: 00:00:00"
     ]
    },
    {
     "name": "stdout",
     "output_type": "stream",
     "text": [
      "2016-10-20 19:00:50.223159 PDT | itr #36 | fitting baseline...\n"
     ]
    },
    {
     "name": "stderr",
     "output_type": "stream",
     "text": [
      "\n",
      "Total time elapsed: 00:00:00\n"
     ]
    },
    {
     "name": "stdout",
     "output_type": "stream",
     "text": [
      "2016-10-20 19:00:50.227287 PDT | itr #36 | fitted\n",
      "2016-10-20 19:00:50.243675 PDT | itr #36 | computing loss before\n",
      "2016-10-20 19:00:50.254795 PDT | itr #36 | performing update\n",
      "2016-10-20 19:00:50.255511 PDT | itr #36 | computing descent direction\n",
      "2016-10-20 19:00:50.423911 PDT | itr #36 | descent direction computed\n",
      "2016-10-20 19:00:50.434213 PDT | itr #36 | backtrack iters: 0\n",
      "2016-10-20 19:00:50.434728 PDT | itr #36 | computing loss after\n",
      "2016-10-20 19:00:50.435120 PDT | itr #36 | optimization finished\n",
      "2016-10-20 19:00:50.452052 PDT | itr #36 | saving snapshot...\n",
      "2016-10-20 19:00:50.453039 PDT | itr #36 | saved\n",
      "2016-10-20 19:00:50.454497 PDT | -----------------------  -------------\n",
      "2016-10-20 19:00:50.454959 PDT | Iteration                 36\n",
      "2016-10-20 19:00:50.455796 PDT | AverageDiscountedReturn   63.2849\n",
      "2016-10-20 19:00:50.456250 PDT | AverageReturn             99.7073\n",
      "2016-10-20 19:00:50.456925 PDT | ExplainedVariance          0.997494\n",
      "2016-10-20 19:00:50.457518 PDT | NumTrajs                  41\n",
      "2016-10-20 19:00:50.458409 PDT | Entropy                    0.543894\n",
      "2016-10-20 19:00:50.458739 PDT | Perplexity                 1.7227\n",
      "2016-10-20 19:00:50.462432 PDT | StdReturn                  1.4524\n",
      "2016-10-20 19:00:50.463580 PDT | MaxReturn                100\n",
      "2016-10-20 19:00:50.464507 PDT | MinReturn                 91\n",
      "2016-10-20 19:00:50.466039 PDT | LossBefore                -2.64812e-16\n",
      "2016-10-20 19:00:50.466662 PDT | LossAfter                 -0.00806816\n",
      "2016-10-20 19:00:50.467579 PDT | MeanKLBefore               0\n",
      "2016-10-20 19:00:50.470162 PDT | MeanKL                     0.00935451\n",
      "2016-10-20 19:00:50.471216 PDT | dLoss                      0.00806816\n",
      "2016-10-20 19:00:50.471583 PDT | -----------------------  -------------\n"
     ]
    },
    {
     "name": "stderr",
     "output_type": "stream",
     "text": [
      "0%                          100%\n",
      "[##############################] | ETA: 00:00:00"
     ]
    },
    {
     "name": "stdout",
     "output_type": "stream",
     "text": [
      "2016-10-20 19:00:50.944616 PDT | itr #37 | fitting baseline...\n",
      "2016-10-20 19:00:50.946786 PDT | itr #37 | fitted\n"
     ]
    },
    {
     "name": "stderr",
     "output_type": "stream",
     "text": [
      "\n",
      "Total time elapsed: 00:00:00\n"
     ]
    },
    {
     "name": "stdout",
     "output_type": "stream",
     "text": [
      "2016-10-20 19:00:50.978204 PDT | itr #37 | computing loss before\n",
      "2016-10-20 19:00:50.986622 PDT | itr #37 | performing update\n",
      "2016-10-20 19:00:50.987248 PDT | itr #37 | computing descent direction\n",
      "2016-10-20 19:00:51.170352 PDT | itr #37 | descent direction computed\n",
      "2016-10-20 19:00:51.226737 PDT | itr #37 | backtrack iters: 5\n",
      "2016-10-20 19:00:51.227742 PDT | itr #37 | computing loss after\n",
      "2016-10-20 19:00:51.228394 PDT | itr #37 | optimization finished\n",
      "2016-10-20 19:00:51.251783 PDT | itr #37 | saving snapshot...\n",
      "2016-10-20 19:00:51.252489 PDT | itr #37 | saved\n",
      "2016-10-20 19:00:51.253449 PDT | -----------------------  -------------\n",
      "2016-10-20 19:00:51.253963 PDT | Iteration                 37\n",
      "2016-10-20 19:00:51.254410 PDT | AverageDiscountedReturn   63.3968\n",
      "2016-10-20 19:00:51.254854 PDT | AverageReturn            100\n",
      "2016-10-20 19:00:51.256486 PDT | ExplainedVariance          0.999786\n",
      "2016-10-20 19:00:51.257247 PDT | NumTrajs                  40\n",
      "2016-10-20 19:00:51.258302 PDT | Entropy                    0.541876\n",
      "2016-10-20 19:00:51.258729 PDT | Perplexity                 1.71923\n",
      "2016-10-20 19:00:51.259225 PDT | StdReturn                  0\n",
      "2016-10-20 19:00:51.259819 PDT | MaxReturn                100\n",
      "2016-10-20 19:00:51.260401 PDT | MinReturn                100\n",
      "2016-10-20 19:00:51.261313 PDT | LossBefore                 1.05138e-16\n",
      "2016-10-20 19:00:51.261643 PDT | LossAfter                 -0.00235356\n",
      "2016-10-20 19:00:51.262153 PDT | MeanKLBefore               0\n",
      "2016-10-20 19:00:51.262728 PDT | MeanKL                     0.00446795\n",
      "2016-10-20 19:00:51.263303 PDT | dLoss                      0.00235356\n",
      "2016-10-20 19:00:51.263867 PDT | -----------------------  -------------\n"
     ]
    },
    {
     "name": "stderr",
     "output_type": "stream",
     "text": [
      "0%                          100%\n",
      "[##############################] | ETA: 00:00:00"
     ]
    },
    {
     "name": "stdout",
     "output_type": "stream",
     "text": [
      "2016-10-20 19:00:51.715608 PDT | itr #38 | fitting baseline...\n",
      "2016-10-20 19:00:51.717957 PDT | itr #38 | fitted\n",
      "2016-10-20 19:00:51.734009 PDT | itr #38 | computing loss before\n"
     ]
    },
    {
     "name": "stderr",
     "output_type": "stream",
     "text": [
      "\n",
      "Total time elapsed: 00:00:00\n"
     ]
    },
    {
     "name": "stdout",
     "output_type": "stream",
     "text": [
      "2016-10-20 19:00:51.749010 PDT | itr #38 | performing update\n",
      "2016-10-20 19:00:51.750030 PDT | itr #38 | computing descent direction\n",
      "2016-10-20 19:00:51.959394 PDT | itr #38 | descent direction computed\n",
      "2016-10-20 19:00:51.999626 PDT | itr #38 | backtrack iters: 3\n",
      "2016-10-20 19:00:52.000164 PDT | itr #38 | computing loss after\n",
      "2016-10-20 19:00:52.001349 PDT | itr #38 | optimization finished\n",
      "2016-10-20 19:00:52.024941 PDT | itr #38 | saving snapshot...\n",
      "2016-10-20 19:00:52.025909 PDT | itr #38 | saved\n",
      "2016-10-20 19:00:52.027826 PDT | -----------------------  -------------\n",
      "2016-10-20 19:00:52.028844 PDT | Iteration                 38\n",
      "2016-10-20 19:00:52.029515 PDT | AverageDiscountedReturn   63.3968\n",
      "2016-10-20 19:00:52.030218 PDT | AverageReturn            100\n",
      "2016-10-20 19:00:52.030873 PDT | ExplainedVariance          1\n",
      "2016-10-20 19:00:52.031524 PDT | NumTrajs                  40\n",
      "2016-10-20 19:00:52.032181 PDT | Entropy                    0.53285\n",
      "2016-10-20 19:00:52.032835 PDT | Perplexity                 1.70378\n",
      "2016-10-20 19:00:52.033483 PDT | StdReturn                  0\n",
      "2016-10-20 19:00:52.034171 PDT | MaxReturn                100\n",
      "2016-10-20 19:00:52.034831 PDT | MinReturn                100\n",
      "2016-10-20 19:00:52.035300 PDT | LossBefore                -1.16573e-17\n",
      "2016-10-20 19:00:52.035705 PDT | LossAfter                 -0.00526436\n",
      "2016-10-20 19:00:52.036063 PDT | MeanKLBefore               0\n",
      "2016-10-20 19:00:52.036409 PDT | MeanKL                     0.00515015\n",
      "2016-10-20 19:00:52.036782 PDT | dLoss                      0.00526436\n",
      "2016-10-20 19:00:52.037202 PDT | -----------------------  -------------\n"
     ]
    },
    {
     "name": "stderr",
     "output_type": "stream",
     "text": [
      "0%                          100%\n",
      "[##############################] | ETA: 00:00:00"
     ]
    },
    {
     "name": "stdout",
     "output_type": "stream",
     "text": [
      "2016-10-20 19:00:52.482100 PDT | itr #39 | fitting baseline...\n",
      "2016-10-20 19:00:52.484632 PDT | itr #39 | fitted\n"
     ]
    },
    {
     "name": "stderr",
     "output_type": "stream",
     "text": [
      "\n",
      "Total time elapsed: 00:00:00\n"
     ]
    },
    {
     "name": "stdout",
     "output_type": "stream",
     "text": [
      "2016-10-20 19:00:52.510254 PDT | itr #39 | computing loss before\n",
      "2016-10-20 19:00:52.525206 PDT | itr #39 | performing update\n",
      "2016-10-20 19:00:52.526213 PDT | itr #39 | computing descent direction\n",
      "2016-10-20 19:00:52.699264 PDT | itr #39 | descent direction computed\n",
      "2016-10-20 19:00:52.727337 PDT | itr #39 | backtrack iters: 2\n",
      "2016-10-20 19:00:52.727963 PDT | itr #39 | computing loss after\n",
      "2016-10-20 19:00:52.728434 PDT | itr #39 | optimization finished\n",
      "2016-10-20 19:00:52.749255 PDT | itr #39 | saving snapshot...\n",
      "2016-10-20 19:00:52.750067 PDT | itr #39 | saved\n",
      "2016-10-20 19:00:52.752523 PDT | -----------------------  -------------\n",
      "2016-10-20 19:00:52.756645 PDT | Iteration                 39\n",
      "2016-10-20 19:00:52.757150 PDT | AverageDiscountedReturn   63.2924\n",
      "2016-10-20 19:00:52.757640 PDT | AverageReturn             99.7317\n",
      "2016-10-20 19:00:52.758133 PDT | ExplainedVariance          0.9967\n",
      "2016-10-20 19:00:52.758591 PDT | NumTrajs                  41\n",
      "2016-10-20 19:00:52.759087 PDT | Entropy                    0.541952\n",
      "2016-10-20 19:00:52.759546 PDT | Perplexity                 1.71936\n",
      "2016-10-20 19:00:52.759948 PDT | StdReturn                  1.69683\n",
      "2016-10-20 19:00:52.760379 PDT | MaxReturn                100\n",
      "2016-10-20 19:00:52.760843 PDT | MinReturn                 89\n",
      "2016-10-20 19:00:52.761278 PDT | LossBefore                 6.66399e-17\n",
      "2016-10-20 19:00:52.761772 PDT | LossAfter                 -0.0101175\n",
      "2016-10-20 19:00:52.762324 PDT | MeanKLBefore               1.0299e-20\n",
      "2016-10-20 19:00:52.762876 PDT | MeanKL                     0.00632515\n",
      "2016-10-20 19:00:52.763432 PDT | dLoss                      0.0101175\n",
      "2016-10-20 19:00:52.763978 PDT | -----------------------  -------------\n"
     ]
    }
   ],
   "source": [
    "env = normalize(GymEnv(\"CartPole-v0\"))\n",
    "\n",
    "policy = CategoricalMLPPolicy(\n",
    "    env_spec=env.spec,\n",
    "    # The neural network policy should have two hidden layers, each with 32 hidden units.\n",
    "    hidden_sizes=(32, 32)\n",
    ")\n",
    "\n",
    "baseline = LinearFeatureBaseline(env_spec=env.spec)\n",
    "\n",
    "algo = TRPO(\n",
    "    env=env,\n",
    "    policy=policy,\n",
    "    baseline=baseline,\n",
    "    batch_size=4000,\n",
    "    max_path_length=100,\n",
    "    n_itr=40,\n",
    "    discount=0.99,\n",
    "    step_size=0.01,\n",
    ")\n",
    "algo.train()"
   ]
  },
  {
   "cell_type": "code",
   "execution_count": 7,
   "metadata": {
    "collapsed": false
   },
   "outputs": [
    {
     "name": "stdout",
     "output_type": "stream",
     "text": [
      "['__class__', '__delattr__', '__dict__', '__dir__', '__doc__', '__eq__', '__format__', '__ge__', '__getattribute__', '__gt__', '__hash__', '__init__', '__le__', '__lt__', '__module__', '__ne__', '__new__', '__reduce__', '__reduce_ex__', '__repr__', '__setattr__', '__sizeof__', '__str__', '__subclasshook__', '__weakref__', 'baseline', 'batch_size', 'center_adv', 'current_itr', 'discount', 'env', 'gae_lambda', 'get_itr_snapshot', 'init_opt', 'log_diagnostics', 'max_path_length', 'n_itr', 'optimize_policy', 'optimizer', 'pause_for_plot', 'plot', 'policy', 'positive_adv', 'sampler', 'scope', 'shutdown_worker', 'start_worker', 'step_size', 'store_paths', 'train', 'truncate_local_is_ratio', 'update_plot', 'whole_paths']\n",
      "<bound method NPO.get_itr_snapshot of <rllab.algos.trpo.TRPO object at 0x7f9faac99160>>\n"
     ]
    }
   ],
   "source": [
    "print(dir(algo))\n",
    "print(algo.get_itr_snapshot)"
   ]
  },
  {
   "cell_type": "code",
   "execution_count": null,
   "metadata": {
    "collapsed": true
   },
   "outputs": [],
   "source": []
  }
 ],
 "metadata": {
  "kernelspec": {
   "display_name": "Python 3",
   "language": "python",
   "name": "python3"
  },
  "language_info": {
   "codemirror_mode": {
    "name": "ipython",
    "version": 3
   },
   "file_extension": ".py",
   "mimetype": "text/x-python",
   "name": "python",
   "nbconvert_exporter": "python",
   "pygments_lexer": "ipython3",
   "version": "3.5.2"
  },
  "widgets": {
   "state": {},
   "version": "1.1.2"
  }
 },
 "nbformat": 4,
 "nbformat_minor": 1
}
