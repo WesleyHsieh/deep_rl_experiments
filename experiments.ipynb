{
 "cells": [
  {
   "cell_type": "code",
   "execution_count": 1,
   "metadata": {
    "collapsed": false,
    "scrolled": true
   },
   "outputs": [
    {
     "name": "stderr",
     "output_type": "stream",
     "text": [
      "/home/wesley/anaconda2/envs/rllab3/lib/python3.5/site-packages/theano/tensor/signal/downsample.py:6: UserWarning: downsample module has been moved to the theano.tensor.signal.pool module.\n",
      "  \"downsample module has been moved to the theano.tensor.signal.pool module.\")\n"
     ]
    }
   ],
   "source": [
    "%matplotlib inline\n",
    "from rllab.algos.trpo import TRPO\n",
    "from rllab.baselines.linear_feature_baseline import LinearFeatureBaseline\n",
    "from rllab.envs.gym_env import GymEnv\n",
    "from rllab.envs.normalized_env import normalize\n",
    "from rllab.misc.instrument import stub, run_experiment_lite\n",
    "from rllab.policies.gaussian_mlp_policy import GaussianMLPPolicy\n",
    "from rllab.policies.categorical_mlp_policy import CategoricalMLPPolicy\n",
    "# stub(globals())\n",
    "import subprocess"
   ]
  },
  {
   "cell_type": "code",
   "execution_count": null,
   "metadata": {
    "collapsed": false
   },
   "outputs": [],
   "source": [
    "import lasagne.nonlinearities as NL\n",
    "from experiment_runner import ExperimentRunner\n",
    "import time"
   ]
  },
  {
   "cell_type": "code",
   "execution_count": null,
   "metadata": {
    "collapsed": false,
    "scrolled": true
   },
   "outputs": [
    {
     "name": "stdout",
     "output_type": "stream",
     "text": [
      "Running Experiment on Environment: CartPole-v0\n"
     ]
    }
   ],
   "source": [
    "start = time.time()\n",
    "env_names = ['CartPole-v0', 'LunarLander-v2', 'Pong-ram-v0']\n",
    "# hyperparam_dict = {'hidden_sizes': [(32, 32), (32, 16), (32, 32, 32), (32, 32, 16), (32, 16, 16), (32, 32, 32, 32)], \n",
    "#                    'hidden_nonlinearity': ['tanh', 'rectify', 'elu', 'softmax']\n",
    "#                   }\n",
    "for env_name in env_names:\n",
    "    start = time.time()\n",
    "    print('Running Experiment on Environment: {}'.format(env_name))\n",
    "    subprocess.run(['python', 'main_experiment.py', env_name])\n",
    "    end = time.time()\n",
    "    print('Time Elapsed: {}'.format(end - start))\n",
    "# env_name = \"CartPole-v0\"\n",
    "# runner = ExperimentRunner(hyperparam_dict, env_name)\n",
    "# exp_results = runner.run_experiments()"
   ]
  },
  {
   "cell_type": "code",
   "execution_count": null,
   "metadata": {
    "collapsed": true
   },
   "outputs": [],
   "source": []
  }
 ],
 "metadata": {
  "kernelspec": {
   "display_name": "Python 3",
   "language": "python",
   "name": "python3"
  },
  "language_info": {
   "codemirror_mode": {
    "name": "ipython",
    "version": 3
   },
   "file_extension": ".py",
   "mimetype": "text/x-python",
   "name": "python",
   "nbconvert_exporter": "python",
   "pygments_lexer": "ipython3",
   "version": "3.5.2"
  },
  "widgets": {
   "state": {},
   "version": "1.1.2"
  }
 },
 "nbformat": 4,
 "nbformat_minor": 1
}
